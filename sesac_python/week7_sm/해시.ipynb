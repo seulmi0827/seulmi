{
 "cells": [
  {
   "cell_type": "markdown",
   "metadata": {},
   "source": [
    "# 해시"
   ]
  },
  {
   "cell_type": "markdown",
   "metadata": {},
   "source": [
    "### 1. 폰켓몬"
   ]
  },
  {
   "cell_type": "code",
   "execution_count": null,
   "metadata": {},
   "outputs": [],
   "source": [
    "def solution(nums):\n",
    "    result = dict()\n",
    "    for i in set(nums):\n",
    "        result[i] = 0\n",
    "    for j in nums:\n",
    "        result[j] += 1\n",
    "    if nums/2 > len(result):\n",
    "        return len(result)\n",
    "    else:\n",
    "        return nums/2"
   ]
  },
  {
   "cell_type": "markdown",
   "metadata": {},
   "source": [
    "### 2. 완주하지 못한 선수"
   ]
  },
  {
   "cell_type": "code",
   "execution_count": 20,
   "metadata": {},
   "outputs": [],
   "source": [
    "#시간초과\n",
    "def solution(participant, completion):\n",
    "    for i in completion:\n",
    "        participant.remove(i)\n",
    "        return participant[0]\n",
    "    \n",
    "#통과\n",
    "from collections import defaultdict\n",
    "def solution(participant, completion):\n",
    "    result = defaultdict(int)\n",
    "    for i in participant:\n",
    "        result[i] +=1\n",
    "    for j in completion:\n",
    "        result[j] -= 1\n",
    "    for k in result:\n",
    "        if result[k] == 1:\n",
    "            return k"
   ]
  }
 ],
 "metadata": {
  "kernelspec": {
   "display_name": "sesac",
   "language": "python",
   "name": "python3"
  },
  "language_info": {
   "codemirror_mode": {
    "name": "ipython",
    "version": 3
   },
   "file_extension": ".py",
   "mimetype": "text/x-python",
   "name": "python",
   "nbconvert_exporter": "python",
   "pygments_lexer": "ipython3",
   "version": "3.10.15"
  }
 },
 "nbformat": 4,
 "nbformat_minor": 2
}
