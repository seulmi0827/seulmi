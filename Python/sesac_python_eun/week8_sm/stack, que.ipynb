{
 "cells": [
  {
   "cell_type": "markdown",
   "metadata": {},
   "source": [
    "#### 스택 : 선입후출 , 처음 실행했던 함수로 돌아가기 위함.\n",
    "#### 큐 : 선입선출, 한방향\n",
    "#### 덱 : 선입선출, 양방향\n",
    "\n"
   ]
  },
  {
   "cell_type": "markdown",
   "metadata": {},
   "source": [
    "from collections import deque\n",
    "- append(x) : 오른쪽에 x추가\n",
    "- appendleft(x) : 왼쪽에 x추가\n",
    "- pop() : 오른쪽에서 요소 제거. 해당 요소 반환\n",
    "- popleft() : 왼쪽에서 요소제거. 해당 요소 반환\n",
    "- rotate( n=1 ) : n단계 오른쪽으로 회전. 음수면 왼쪽회전\n",
    "- clear() : 모든 요소 제거. 길이가 0인 상태로 만듬\n",
    "- count(x) : x와 일치하는 요소의 개수 찾음\n",
    "- extend(iterable) : 오른쪽 추가\n",
    "- extendleft(iterable) : 왼쪽 추가(역방향)"
   ]
  },
  {
   "cell_type": "markdown",
   "metadata": {},
   "source": [
    "### 같은 숫자는 싫어"
   ]
  },
  {
   "cell_type": "code",
   "execution_count": null,
   "metadata": {
    "vscode": {
     "languageId": "plaintext"
    }
   },
   "outputs": [],
   "source": [
    "def solution(arr):\n",
    "    last_i = -1\n",
    "    result = []\n",
    "    for i in arr:\n",
    "        if i != last_i:\n",
    "            result.append(i)\n",
    "        last_i = i    \n",
    "    return result"
   ]
  },
  {
   "cell_type": "markdown",
   "metadata": {},
   "source": [
    "### 올바른 괄호"
   ]
  },
  {
   "cell_type": "code",
   "execution_count": null,
   "metadata": {
    "vscode": {
     "languageId": "plaintext"
    }
   },
   "outputs": [],
   "source": [
    "def solution(s):\n",
    "    result = 0\n",
    "    for i in s:\n",
    "        if i == '(':\n",
    "            result +=1\n",
    "        else:\n",
    "            result -=1\n",
    "            if result < 0 :\n",
    "                return False\n",
    "    return result ==0"
   ]
  }
 ],
 "metadata": {
  "language_info": {
   "name": "python"
  }
 },
 "nbformat": 4,
 "nbformat_minor": 2
}
