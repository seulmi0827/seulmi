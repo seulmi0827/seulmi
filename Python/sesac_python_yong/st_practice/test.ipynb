{
 "cells": [
  {
   "cell_type": "code",
   "execution_count": 21,
   "id": "439bf25d",
   "metadata": {},
   "outputs": [
    {
     "data": {
      "text/plain": [
       "array(['Toyota', 'Ford', 'BMW', 'Honda', 'Hyundai', 'Chevrolet', 'Nissan'],\n",
       "      dtype=object)"
      ]
     },
     "execution_count": 21,
     "metadata": {},
     "output_type": "execute_result"
    }
   ],
   "source": [
    "import pandas as pd\n",
    "\n",
    "cars_df = pd.read_csv('cars.csv')\n",
    "cars_df[cars_df['Manufacturer'] == 'Toyota']\n",
    "\n",
    "cars_df['Manufacturer'].unique()"
   ]
  },
  {
   "cell_type": "code",
   "execution_count": 7,
   "id": "ead1536a",
   "metadata": {},
   "outputs": [
    {
     "data": {
      "text/html": [
       "<div>\n",
       "<style scoped>\n",
       "    .dataframe tbody tr th:only-of-type {\n",
       "        vertical-align: middle;\n",
       "    }\n",
       "\n",
       "    .dataframe tbody tr th {\n",
       "        vertical-align: top;\n",
       "    }\n",
       "\n",
       "    .dataframe thead th {\n",
       "        text-align: right;\n",
       "    }\n",
       "</style>\n",
       "<table border=\"1\" class=\"dataframe\">\n",
       "  <thead>\n",
       "    <tr style=\"text-align: right;\">\n",
       "      <th></th>\n",
       "      <th>x</th>\n",
       "      <th>y</th>\n",
       "      <th>frame</th>\n",
       "      <th>category</th>\n",
       "    </tr>\n",
       "  </thead>\n",
       "  <tbody>\n",
       "    <tr>\n",
       "      <th>0</th>\n",
       "      <td>0.374540</td>\n",
       "      <td>0.031429</td>\n",
       "      <td>1</td>\n",
       "      <td>c</td>\n",
       "    </tr>\n",
       "    <tr>\n",
       "      <th>1</th>\n",
       "      <td>0.950714</td>\n",
       "      <td>0.636410</td>\n",
       "      <td>1</td>\n",
       "      <td>a</td>\n",
       "    </tr>\n",
       "    <tr>\n",
       "      <th>2</th>\n",
       "      <td>0.731994</td>\n",
       "      <td>0.314356</td>\n",
       "      <td>1</td>\n",
       "      <td>b</td>\n",
       "    </tr>\n",
       "    <tr>\n",
       "      <th>3</th>\n",
       "      <td>0.598658</td>\n",
       "      <td>0.508571</td>\n",
       "      <td>1</td>\n",
       "      <td>b</td>\n",
       "    </tr>\n",
       "    <tr>\n",
       "      <th>4</th>\n",
       "      <td>0.156019</td>\n",
       "      <td>0.907566</td>\n",
       "      <td>1</td>\n",
       "      <td>c</td>\n",
       "    </tr>\n",
       "    <tr>\n",
       "      <th>...</th>\n",
       "      <td>...</td>\n",
       "      <td>...</td>\n",
       "      <td>...</td>\n",
       "      <td>...</td>\n",
       "    </tr>\n",
       "    <tr>\n",
       "      <th>95</th>\n",
       "      <td>0.493796</td>\n",
       "      <td>0.349210</td>\n",
       "      <td>10</td>\n",
       "      <td>b</td>\n",
       "    </tr>\n",
       "    <tr>\n",
       "      <th>96</th>\n",
       "      <td>0.522733</td>\n",
       "      <td>0.725956</td>\n",
       "      <td>10</td>\n",
       "      <td>c</td>\n",
       "    </tr>\n",
       "    <tr>\n",
       "      <th>97</th>\n",
       "      <td>0.427541</td>\n",
       "      <td>0.897110</td>\n",
       "      <td>10</td>\n",
       "      <td>a</td>\n",
       "    </tr>\n",
       "    <tr>\n",
       "      <th>98</th>\n",
       "      <td>0.025419</td>\n",
       "      <td>0.887086</td>\n",
       "      <td>10</td>\n",
       "      <td>b</td>\n",
       "    </tr>\n",
       "    <tr>\n",
       "      <th>99</th>\n",
       "      <td>0.107891</td>\n",
       "      <td>0.779876</td>\n",
       "      <td>10</td>\n",
       "      <td>c</td>\n",
       "    </tr>\n",
       "  </tbody>\n",
       "</table>\n",
       "<p>100 rows × 4 columns</p>\n",
       "</div>"
      ],
      "text/plain": [
       "           x         y  frame category\n",
       "0   0.374540  0.031429      1        c\n",
       "1   0.950714  0.636410      1        a\n",
       "2   0.731994  0.314356      1        b\n",
       "3   0.598658  0.508571      1        b\n",
       "4   0.156019  0.907566      1        c\n",
       "..       ...       ...    ...      ...\n",
       "95  0.493796  0.349210     10        b\n",
       "96  0.522733  0.725956     10        c\n",
       "97  0.427541  0.897110     10        a\n",
       "98  0.025419  0.887086     10        b\n",
       "99  0.107891  0.779876     10        c\n",
       "\n",
       "[100 rows x 4 columns]"
      ]
     },
     "execution_count": 7,
     "metadata": {},
     "output_type": "execute_result"
    }
   ],
   "source": [
    "import plotly.express as px\n",
    "import pandas as pd\n",
    "import numpy as np\n",
    "\n",
    "np.random.seed(42)\n",
    "n_points = 100\n",
    "df = pd.DataFrame({\n",
    "    'x' : np.random.rand(n_points),\n",
    "    'y' : np.random.rand(n_points),\n",
    "    'frame' : np.repeat(np.arange(1,11),n_points//10),\n",
    "    'category' : np.random.choice(['a','b','c'], n_points)\n",
    "})\n",
    "df"
   ]
  },
  {
   "cell_type": "code",
   "execution_count": 6,
   "id": "1af4efa2",
   "metadata": {},
   "outputs": [],
   "source": [
    "import seaborn as sns\n",
    "\n",
    "df = sns.load_dataset('iris')\n",
    "df = df[:10]"
   ]
  },
  {
   "cell_type": "code",
   "execution_count": 7,
   "id": "b2aa519a",
   "metadata": {},
   "outputs": [
    {
     "data": {
      "text/html": [
       "<div>\n",
       "<style scoped>\n",
       "    .dataframe tbody tr th:only-of-type {\n",
       "        vertical-align: middle;\n",
       "    }\n",
       "\n",
       "    .dataframe tbody tr th {\n",
       "        vertical-align: top;\n",
       "    }\n",
       "\n",
       "    .dataframe thead th {\n",
       "        text-align: right;\n",
       "    }\n",
       "</style>\n",
       "<table border=\"1\" class=\"dataframe\">\n",
       "  <thead>\n",
       "    <tr style=\"text-align: right;\">\n",
       "      <th></th>\n",
       "      <th>sepal_length</th>\n",
       "      <th>sepal_width</th>\n",
       "      <th>petal_length</th>\n",
       "      <th>petal_width</th>\n",
       "      <th>species</th>\n",
       "    </tr>\n",
       "  </thead>\n",
       "  <tbody>\n",
       "    <tr>\n",
       "      <th>0</th>\n",
       "      <td>5.1</td>\n",
       "      <td>3.5</td>\n",
       "      <td>1.4</td>\n",
       "      <td>0.2</td>\n",
       "      <td>setosa</td>\n",
       "    </tr>\n",
       "    <tr>\n",
       "      <th>1</th>\n",
       "      <td>4.9</td>\n",
       "      <td>3.0</td>\n",
       "      <td>1.4</td>\n",
       "      <td>0.2</td>\n",
       "      <td>setosa</td>\n",
       "    </tr>\n",
       "    <tr>\n",
       "      <th>2</th>\n",
       "      <td>4.7</td>\n",
       "      <td>3.2</td>\n",
       "      <td>1.3</td>\n",
       "      <td>0.2</td>\n",
       "      <td>setosa</td>\n",
       "    </tr>\n",
       "    <tr>\n",
       "      <th>3</th>\n",
       "      <td>4.6</td>\n",
       "      <td>3.1</td>\n",
       "      <td>1.5</td>\n",
       "      <td>0.2</td>\n",
       "      <td>setosa</td>\n",
       "    </tr>\n",
       "    <tr>\n",
       "      <th>4</th>\n",
       "      <td>5.0</td>\n",
       "      <td>3.6</td>\n",
       "      <td>1.4</td>\n",
       "      <td>0.2</td>\n",
       "      <td>setosa</td>\n",
       "    </tr>\n",
       "    <tr>\n",
       "      <th>5</th>\n",
       "      <td>5.4</td>\n",
       "      <td>3.9</td>\n",
       "      <td>1.7</td>\n",
       "      <td>0.4</td>\n",
       "      <td>setosa</td>\n",
       "    </tr>\n",
       "    <tr>\n",
       "      <th>6</th>\n",
       "      <td>4.6</td>\n",
       "      <td>3.4</td>\n",
       "      <td>1.4</td>\n",
       "      <td>0.3</td>\n",
       "      <td>setosa</td>\n",
       "    </tr>\n",
       "    <tr>\n",
       "      <th>7</th>\n",
       "      <td>5.0</td>\n",
       "      <td>3.4</td>\n",
       "      <td>1.5</td>\n",
       "      <td>0.2</td>\n",
       "      <td>setosa</td>\n",
       "    </tr>\n",
       "    <tr>\n",
       "      <th>8</th>\n",
       "      <td>4.4</td>\n",
       "      <td>2.9</td>\n",
       "      <td>1.4</td>\n",
       "      <td>0.2</td>\n",
       "      <td>setosa</td>\n",
       "    </tr>\n",
       "    <tr>\n",
       "      <th>9</th>\n",
       "      <td>4.9</td>\n",
       "      <td>3.1</td>\n",
       "      <td>1.5</td>\n",
       "      <td>0.1</td>\n",
       "      <td>setosa</td>\n",
       "    </tr>\n",
       "  </tbody>\n",
       "</table>\n",
       "</div>"
      ],
      "text/plain": [
       "   sepal_length  sepal_width  petal_length  petal_width species\n",
       "0           5.1          3.5           1.4          0.2  setosa\n",
       "1           4.9          3.0           1.4          0.2  setosa\n",
       "2           4.7          3.2           1.3          0.2  setosa\n",
       "3           4.6          3.1           1.5          0.2  setosa\n",
       "4           5.0          3.6           1.4          0.2  setosa\n",
       "5           5.4          3.9           1.7          0.4  setosa\n",
       "6           4.6          3.4           1.4          0.3  setosa\n",
       "7           5.0          3.4           1.5          0.2  setosa\n",
       "8           4.4          2.9           1.4          0.2  setosa\n",
       "9           4.9          3.1           1.5          0.1  setosa"
      ]
     },
     "execution_count": 7,
     "metadata": {},
     "output_type": "execute_result"
    }
   ],
   "source": [
    "df"
   ]
  },
  {
   "cell_type": "code",
   "execution_count": null,
   "id": "757a396f",
   "metadata": {},
   "outputs": [
    {
     "data": {
      "text/plain": [
       "<seaborn.axisgrid.FacetGrid at 0x2a566c7b890>"
      ]
     },
     "execution_count": 11,
     "metadata": {},
     "output_type": "execute_result"
    },
    {
     "data": {
      "image/png": "[encoded data removed]",
      "text/plain": [
       "<Figure size 900x300 with 3 Axes>"
      ]
     },
     "metadata": {},
     "output_type": "display_data"
    }
   ],
   "source": [
    "# import streamlit as st\n",
    "import seaborn as sns\n",
    "import matplotlib.pyplot as plt\n",
    "\n",
    "df = sns.load_dataset('iris')\n",
    "\n",
    "g1 = sns.FacetGrid(df,col='species', margin_titles=True)\n",
    "g1.map(sns.scatterplot, 'sepal_length', 'sepal_width')\n"
   ]
  },
  {
   "cell_type": "code",
   "execution_count": null,
   "id": "727cae40",
   "metadata": {},
   "outputs": [
    {
     "data": {
      "text/plain": [
       "<seaborn.axisgrid.FacetGrid at 0x2a5670b9710>"
      ]
     },
     "execution_count": 13,
     "metadata": {},
     "output_type": "execute_result"
    },
    {
     "data": {
      "image/png": "[encoded data removed]",
      "text/plain": [
       "<Figure size 900x300 with 3 Axes>"
      ]
     },
     "metadata": {},
     "output_type": "display_data"
    }
   ],
   "source": [
    "g2 = sns.FacetGrid(df,col='species', margin_titles=True)\n",
    "g2.map(sns.scatterplot, 'petal_length','petal_width')\n",
    "\n",
    "#st.pyplot(g1)"
   ]
  },
  {
   "cell_type": "code",
   "execution_count": 11,
   "id": "f2756c08",
   "metadata": {},
   "outputs": [
    {
     "data": {
      "text/plain": [
       "[5.1,\n",
       " 4.9,\n",
       " 4.7,\n",
       " 4.6,\n",
       " 5.0,\n",
       " 5.4,\n",
       " 4.6,\n",
       " 5.0,\n",
       " 4.4,\n",
       " 4.9,\n",
       " 5.4,\n",
       " 4.8,\n",
       " 4.8,\n",
       " 4.3,\n",
       " 5.8,\n",
       " 5.7,\n",
       " 5.4,\n",
       " 5.1,\n",
       " 5.7,\n",
       " 5.1,\n",
       " 5.4,\n",
       " 5.1,\n",
       " 4.6,\n",
       " 5.1,\n",
       " 4.8,\n",
       " 5.0,\n",
       " 5.0,\n",
       " 5.2,\n",
       " 5.2,\n",
       " 4.7,\n",
       " 4.8,\n",
       " 5.4,\n",
       " 5.2,\n",
       " 5.5,\n",
       " 4.9,\n",
       " 5.0,\n",
       " 5.5,\n",
       " 4.9,\n",
       " 4.4,\n",
       " 5.1,\n",
       " 5.0,\n",
       " 4.5,\n",
       " 4.4,\n",
       " 5.0,\n",
       " 5.1,\n",
       " 4.8,\n",
       " 5.1,\n",
       " 4.6,\n",
       " 5.3,\n",
       " 5.0,\n",
       " 7.0,\n",
       " 6.4,\n",
       " 6.9,\n",
       " 5.5,\n",
       " 6.5,\n",
       " 5.7,\n",
       " 6.3,\n",
       " 4.9,\n",
       " 6.6,\n",
       " 5.2,\n",
       " 5.0,\n",
       " 5.9,\n",
       " 6.0,\n",
       " 6.1,\n",
       " 5.6,\n",
       " 6.7,\n",
       " 5.6,\n",
       " 5.8,\n",
       " 6.2,\n",
       " 5.6,\n",
       " 5.9,\n",
       " 6.1,\n",
       " 6.3,\n",
       " 6.1,\n",
       " 6.4,\n",
       " 6.6,\n",
       " 6.8,\n",
       " 6.7,\n",
       " 6.0,\n",
       " 5.7,\n",
       " 5.5,\n",
       " 5.5,\n",
       " 5.8,\n",
       " 6.0,\n",
       " 5.4,\n",
       " 6.0,\n",
       " 6.7,\n",
       " 6.3,\n",
       " 5.6,\n",
       " 5.5,\n",
       " 5.5,\n",
       " 6.1,\n",
       " 5.8,\n",
       " 5.0,\n",
       " 5.6,\n",
       " 5.7,\n",
       " 5.7,\n",
       " 6.2,\n",
       " 5.1,\n",
       " 5.7,\n",
       " 6.3,\n",
       " 5.8,\n",
       " 7.1,\n",
       " 6.3,\n",
       " 6.5,\n",
       " 7.6,\n",
       " 4.9,\n",
       " 7.3,\n",
       " 6.7,\n",
       " 7.2,\n",
       " 6.5,\n",
       " 6.4,\n",
       " 6.8,\n",
       " 5.7,\n",
       " 5.8,\n",
       " 6.4,\n",
       " 6.5,\n",
       " 7.7,\n",
       " 7.7,\n",
       " 6.0,\n",
       " 6.9,\n",
       " 5.6,\n",
       " 7.7,\n",
       " 6.3,\n",
       " 6.7,\n",
       " 7.2,\n",
       " 6.2,\n",
       " 6.1,\n",
       " 6.4,\n",
       " 7.2,\n",
       " 7.4,\n",
       " 7.9,\n",
       " 6.4,\n",
       " 6.3,\n",
       " 6.1,\n",
       " 7.7,\n",
       " 6.3,\n",
       " 6.4,\n",
       " 6.0,\n",
       " 6.9,\n",
       " 6.7,\n",
       " 6.9,\n",
       " 5.8,\n",
       " 6.8,\n",
       " 6.7,\n",
       " 6.7,\n",
       " 6.3,\n",
       " 6.5,\n",
       " 6.2,\n",
       " 5.9]"
      ]
     },
     "execution_count": 11,
     "metadata": {},
     "output_type": "execute_result"
    }
   ],
   "source": [
    "list(df)"
   ]
  },
  {
   "cell_type": "code",
   "execution_count": null,
   "id": "071ef291",
   "metadata": {},
   "outputs": [],
   "source": []
  },
  {
   "cell_type": "code",
   "execution_count": 32,
   "id": "764cd637",
   "metadata": {},
   "outputs": [
    {
     "data": {
      "application/vnd.plotly.v1+json": {
       "config": {
        "plotlyServerURL": "https://plot.ly"
       },
       "data": [
        {
         "autobinx": false,
         "histnorm": "probability density",
         "legendgroup": "setosa",
         "marker": {
          "color": "#393E46"
         },
         "name": "setosa",
         "opacity": 0.7,
         "type": "histogram",
         "x": [
          5.1,
          4.9,
          4.7,
          4.6,
          5,
          5.4,
          4.6,
          5,
          4.4,
          4.9,
          5.4,
          4.8,
          4.8,
          4.3,
          5.8,
          5.7,
          5.4,
          5.1,
          5.7,
          5.1,
          5.4,
          5.1,
          4.6,
          5.1,
          4.8,
          5,
          5,
          5.2,
          5.2,
          4.7,
          4.8,
          5.4,
          5.2,
          5.5,
          4.9,
          5,
          5.5,
          4.9,
          4.4,
          5.1,
          5,
          4.5,
          4.4,
          5,
          5.1,
          4.8,
          5.1,
          4.6,
          5.3,
          5
         ],
         "xaxis": "x",
         "xbins": {
          "end": 5.8,
          "size": 1,
          "start": 4.3
         },
         "yaxis": "y"
        },
        {
         "autobinx": false,
         "histnorm": "probability density",
         "legendgroup": "versicolor",
         "marker": {
          "color": "#2BCDC1"
         },
         "name": "versicolor",
         "opacity": 0.7,
         "type": "histogram",
         "x": [
          7,
          6.4,
          6.9,
          5.5,
          6.5,
          5.7,
          6.3,
          4.9,
          6.6,
          5.2,
          5,
          5.9,
          6,
          6.1,
          5.6,
          6.7,
          5.6,
          5.8,
          6.2,
          5.6,
          5.9,
          6.1,
          6.3,
          6.1,
          6.4,
          6.6,
          6.8,
          6.7,
          6,
          5.7,
          5.5,
          5.5,
          5.8,
          6,
          5.4,
          6,
          6.7,
          6.3,
          5.6,
          5.5,
          5.5,
          6.1,
          5.8,
          5,
          5.6,
          5.7,
          5.7,
          6.2,
          5.1,
          5.7
         ],
         "xaxis": "x",
         "xbins": {
          "end": 7,
          "size": 1,
          "start": 4.9
         },
         "yaxis": "y"
        },
        {
         "autobinx": false,
         "histnorm": "probability density",
         "legendgroup": "virginica",
         "marker": {
          "color": "#F66095"
         },
         "name": "virginica",
         "opacity": 0.7,
         "type": "histogram",
         "x": [
          6.3,
          5.8,
          7.1,
          6.3,
          6.5,
          7.6,
          4.9,
          7.3,
          6.7,
          7.2,
          6.5,
          6.4,
          6.8,
          5.7,
          5.8,
          6.4,
          6.5,
          7.7,
          7.7,
          6,
          6.9,
          5.6,
          7.7,
          6.3,
          6.7,
          7.2,
          6.2,
          6.1,
          6.4,
          7.2,
          7.4,
          7.9,
          6.4,
          6.3,
          6.1,
          7.7,
          6.3,
          6.4,
          6,
          6.9,
          6.7,
          6.9,
          5.8,
          6.8,
          6.7,
          6.7,
          6.3,
          6.5,
          6.2,
          5.9
         ],
         "xaxis": "x",
         "xbins": {
          "end": 7.9,
          "size": 1,
          "start": 4.9
         },
         "yaxis": "y"
        },
        {
         "legendgroup": "setosa",
         "marker": {
          "color": "#393E46"
         },
         "mode": "lines",
         "name": "setosa",
         "showlegend": false,
         "type": "scatter",
         "x": [
          4.3,
          4.303,
          4.306,
          4.309,
          4.311999999999999,
          4.3149999999999995,
          4.318,
          4.321,
          4.324,
          4.327,
          4.33,
          4.333,
          4.335999999999999,
          4.3389999999999995,
          4.342,
          4.345,
          4.348,
          4.351,
          4.354,
          4.357,
          4.359999999999999,
          4.3629999999999995,
          4.366,
          4.369,
          4.372,
          4.375,
          4.378,
          4.381,
          4.3839999999999995,
          4.387,
          4.39,
          4.393,
          4.396,
          4.399,
          4.402,
          4.405,
          4.4079999999999995,
          4.411,
          4.414,
          4.417,
          4.42,
          4.423,
          4.426,
          4.429,
          4.4319999999999995,
          4.435,
          4.438,
          4.441,
          4.444,
          4.447,
          4.45,
          4.452999999999999,
          4.4559999999999995,
          4.459,
          4.462,
          4.465,
          4.468,
          4.471,
          4.474,
          4.476999999999999,
          4.4799999999999995,
          4.483,
          4.486,
          4.489,
          4.492,
          4.495,
          4.498,
          4.5009999999999994,
          4.504,
          4.507,
          4.51,
          4.513,
          4.516,
          4.519,
          4.522,
          4.5249999999999995,
          4.528,
          4.531,
          4.534,
          4.537,
          4.54,
          4.543,
          4.545999999999999,
          4.5489999999999995,
          4.552,
          4.555,
          4.558,
          4.561,
          4.564,
          4.567,
          4.57,
          4.5729999999999995,
          4.576,
          4.579,
          4.582,
          4.585,
          4.588,
          4.591,
          4.593999999999999,
          4.5969999999999995,
          4.6,
          4.603,
          4.606,
          4.609,
          4.612,
          4.615,
          4.617999999999999,
          4.6209999999999996,
          4.624,
          4.627,
          4.63,
          4.633,
          4.636,
          4.639,
          4.6419999999999995,
          4.645,
          4.648,
          4.651,
          4.654,
          4.657,
          4.66,
          4.663,
          4.6659999999999995,
          4.669,
          4.672,
          4.675,
          4.678,
          4.681,
          4.684,
          4.686999999999999,
          4.6899999999999995,
          4.693,
          4.696,
          4.699,
          4.702,
          4.705,
          4.708,
          4.710999999999999,
          4.7139999999999995,
          4.717,
          4.72,
          4.723,
          4.726,
          4.729,
          4.732,
          4.734999999999999,
          4.7379999999999995,
          4.741,
          4.744,
          4.747,
          4.75,
          4.753,
          4.756,
          4.7589999999999995,
          4.762,
          4.765,
          4.768,
          4.771,
          4.774,
          4.777,
          4.779999999999999,
          4.7829999999999995,
          4.786,
          4.789,
          4.792,
          4.795,
          4.798,
          4.801,
          4.804,
          4.8069999999999995,
          4.81,
          4.813,
          4.816,
          4.819,
          4.822,
          4.825,
          4.827999999999999,
          4.8309999999999995,
          4.834,
          4.837,
          4.84,
          4.843,
          4.846,
          4.849,
          4.852,
          4.8549999999999995,
          4.858,
          4.861,
          4.864,
          4.867,
          4.87,
          4.872999999999999,
          4.8759999999999994,
          4.879,
          4.882,
          4.885,
          4.888,
          4.891,
          4.894,
          4.897,
          4.8999999999999995,
          4.903,
          4.906,
          4.909,
          4.912,
          4.915,
          4.918,
          4.920999999999999,
          4.9239999999999995,
          4.927,
          4.93,
          4.933,
          4.936,
          4.939,
          4.942,
          4.945,
          4.9479999999999995,
          4.951,
          4.954,
          4.957,
          4.96,
          4.963,
          4.966,
          4.968999999999999,
          4.9719999999999995,
          4.975,
          4.978,
          4.981,
          4.984,
          4.987,
          4.99,
          4.992999999999999,
          4.9959999999999996,
          4.999,
          5.002,
          5.005,
          5.008,
          5.011,
          5.013999999999999,
          5.0169999999999995,
          5.02,
          5.023,
          5.026,
          5.029,
          5.032,
          5.035,
          5.038,
          5.0409999999999995,
          5.044,
          5.047,
          5.05,
          5.053,
          5.056,
          5.059,
          5.061999999999999,
          5.0649999999999995,
          5.068,
          5.071,
          5.074,
          5.077,
          5.08,
          5.083,
          5.086,
          5.0889999999999995,
          5.092,
          5.095,
          5.098,
          5.101,
          5.104,
          5.107,
          5.109999999999999,
          5.1129999999999995,
          5.116,
          5.119,
          5.122,
          5.125,
          5.128,
          5.131,
          5.1339999999999995,
          5.137,
          5.14,
          5.143,
          5.146,
          5.149,
          5.152,
          5.154999999999999,
          5.1579999999999995,
          5.161,
          5.164,
          5.167,
          5.17,
          5.173,
          5.176,
          5.179,
          5.1819999999999995,
          5.185,
          5.188,
          5.191,
          5.194,
          5.197,
          5.2,
          5.202999999999999,
          5.2059999999999995,
          5.209,
          5.212,
          5.215,
          5.218,
          5.221,
          5.224,
          5.227,
          5.2299999999999995,
          5.233,
          5.236,
          5.239,
          5.242,
          5.245,
          5.247999999999999,
          5.2509999999999994,
          5.254,
          5.257,
          5.26,
          5.263,
          5.266,
          5.269,
          5.272,
          5.2749999999999995,
          5.278,
          5.281,
          5.284,
          5.287,
          5.29,
          5.293,
          5.295999999999999,
          5.2989999999999995,
          5.302,
          5.305,
          5.308,
          5.311,
          5.314,
          5.317,
          5.32,
          5.3229999999999995,
          5.326,
          5.329,
          5.332,
          5.335,
          5.338,
          5.340999999999999,
          5.343999999999999,
          5.3469999999999995,
          5.35,
          5.353,
          5.356,
          5.359,
          5.362,
          5.365,
          5.368,
          5.3709999999999996,
          5.374,
          5.377,
          5.38,
          5.383,
          5.386,
          5.388999999999999,
          5.3919999999999995,
          5.395,
          5.398,
          5.401,
          5.404,
          5.407,
          5.41,
          5.413,
          5.416,
          5.419,
          5.422,
          5.425,
          5.428,
          5.431,
          5.433999999999999,
          5.436999999999999,
          5.4399999999999995,
          5.443,
          5.446,
          5.449,
          5.452,
          5.455,
          5.458,
          5.461,
          5.4639999999999995,
          5.467,
          5.47,
          5.473,
          5.476,
          5.479,
          5.481999999999999,
          5.484999999999999,
          5.4879999999999995,
          5.491,
          5.494,
          5.497,
          5.5,
          5.503,
          5.506,
          5.509,
          5.512,
          5.515,
          5.518,
          5.521,
          5.524,
          5.527,
          5.529999999999999,
          5.5329999999999995,
          5.536,
          5.539,
          5.542,
          5.545,
          5.548,
          5.551,
          5.554,
          5.5569999999999995,
          5.56,
          5.563,
          5.566,
          5.569,
          5.572,
          5.574999999999999,
          5.577999999999999,
          5.5809999999999995,
          5.584,
          5.587,
          5.59,
          5.593,
          5.596,
          5.599,
          5.602,
          5.6049999999999995,
          5.608,
          5.611,
          5.614,
          5.617,
          5.62,
          5.622999999999999,
          5.6259999999999994,
          5.629,
          5.632,
          5.635,
          5.638,
          5.641,
          5.644,
          5.647,
          5.65,
          5.653,
          5.656,
          5.659,
          5.662,
          5.665,
          5.668,
          5.670999999999999,
          5.6739999999999995,
          5.677,
          5.68,
          5.683,
          5.686,
          5.689,
          5.692,
          5.695,
          5.6979999999999995,
          5.701,
          5.704,
          5.707,
          5.71,
          5.713,
          5.715999999999999,
          5.718999999999999,
          5.7219999999999995,
          5.725,
          5.728,
          5.731,
          5.734,
          5.737,
          5.74,
          5.743,
          5.7459999999999996,
          5.749,
          5.752,
          5.755,
          5.758,
          5.761,
          5.763999999999999,
          5.7669999999999995,
          5.77,
          5.773,
          5.776,
          5.779,
          5.782,
          5.785,
          5.788,
          5.791,
          5.794,
          5.797
         ],
         "xaxis": "x",
         "y": {
          "bdata": "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",
          "dtype": "f8"
         },
         "yaxis": "y"
        },
        {
         "legendgroup": "versicolor",
         "marker": {
          "color": "#2BCDC1"
         },
         "mode": "lines",
         "name": "versicolor",
         "showlegend": false,
         "type": "scatter",
         "x": [
          4.9,
          4.9042,
          4.9084,
          4.9126,
          4.9168,
          4.921,
          4.9252,
          4.9294,
          4.9336,
          4.9378,
          4.942,
          4.9462,
          4.9504,
          4.9546,
          4.9588,
          4.963,
          4.9672,
          4.9714,
          4.9756,
          4.9798,
          4.984,
          4.9882,
          4.9924,
          4.9966,
          5.0008,
          5.005000000000001,
          5.009200000000001,
          5.013400000000001,
          5.017600000000001,
          5.021800000000001,
          5.026000000000001,
          5.030200000000001,
          5.034400000000001,
          5.038600000000001,
          5.042800000000001,
          5.047000000000001,
          5.051200000000001,
          5.055400000000001,
          5.0596000000000005,
          5.0638000000000005,
          5.0680000000000005,
          5.0722000000000005,
          5.0764000000000005,
          5.0806000000000004,
          5.0848,
          5.089,
          5.0932,
          5.0974,
          5.1016,
          5.1058,
          5.11,
          5.1142,
          5.1184,
          5.1226,
          5.1268,
          5.131,
          5.1352,
          5.1394,
          5.1436,
          5.1478,
          5.152,
          5.1562,
          5.1604,
          5.1646,
          5.1688,
          5.173,
          5.1772,
          5.1814,
          5.1856,
          5.1898,
          5.194,
          5.1982,
          5.202400000000001,
          5.2066,
          5.210800000000001,
          5.215,
          5.219200000000001,
          5.2234,
          5.227600000000001,
          5.231800000000001,
          5.236000000000001,
          5.240200000000001,
          5.244400000000001,
          5.248600000000001,
          5.252800000000001,
          5.257000000000001,
          5.2612000000000005,
          5.2654000000000005,
          5.2696000000000005,
          5.2738000000000005,
          5.2780000000000005,
          5.2822000000000005,
          5.2864,
          5.2906,
          5.2948,
          5.299,
          5.3032,
          5.3074,
          5.3116,
          5.3158,
          5.32,
          5.3242,
          5.3284,
          5.3326,
          5.3368,
          5.341,
          5.3452,
          5.3494,
          5.3536,
          5.3578,
          5.362,
          5.3662,
          5.3704,
          5.3746,
          5.3788,
          5.383,
          5.3872,
          5.3914,
          5.3956,
          5.3998,
          5.404,
          5.408200000000001,
          5.4124,
          5.416600000000001,
          5.4208,
          5.425000000000001,
          5.4292,
          5.433400000000001,
          5.4376,
          5.441800000000001,
          5.446000000000001,
          5.450200000000001,
          5.454400000000001,
          5.458600000000001,
          5.4628000000000005,
          5.4670000000000005,
          5.4712000000000005,
          5.4754000000000005,
          5.4796000000000005,
          5.4838000000000005,
          5.488,
          5.4922,
          5.4964,
          5.5006,
          5.5048,
          5.509,
          5.5132,
          5.5174,
          5.5216,
          5.5258,
          5.53,
          5.5342,
          5.5384,
          5.5426,
          5.5468,
          5.551,
          5.5552,
          5.5594,
          5.5636,
          5.5678,
          5.572,
          5.5762,
          5.5804,
          5.5846,
          5.5888,
          5.593,
          5.5972,
          5.6014,
          5.6056,
          5.6098,
          5.614,
          5.6182,
          5.6224,
          5.6266,
          5.630800000000001,
          5.635,
          5.639200000000001,
          5.6434,
          5.647600000000001,
          5.6518,
          5.656000000000001,
          5.6602,
          5.6644000000000005,
          5.6686000000000005,
          5.6728000000000005,
          5.6770000000000005,
          5.6812000000000005,
          5.6854000000000005,
          5.6896,
          5.6938,
          5.698,
          5.7022,
          5.7064,
          5.7106,
          5.7148,
          5.719,
          5.7232,
          5.7274,
          5.7316,
          5.7358,
          5.74,
          5.7442,
          5.7484,
          5.7526,
          5.7568,
          5.761,
          5.7652,
          5.7694,
          5.7736,
          5.7778,
          5.782,
          5.7862,
          5.7904,
          5.7946,
          5.7988,
          5.803,
          5.8072,
          5.8114,
          5.8156,
          5.8198,
          5.824,
          5.8282,
          5.8324,
          5.8366,
          5.8408,
          5.845000000000001,
          5.8492,
          5.853400000000001,
          5.8576,
          5.861800000000001,
          5.8660000000000005,
          5.8702000000000005,
          5.8744000000000005,
          5.8786000000000005,
          5.8828000000000005,
          5.8870000000000005,
          5.8912,
          5.8954,
          5.8996,
          5.9038,
          5.908,
          5.9122,
          5.9164,
          5.9206,
          5.9248,
          5.929,
          5.9332,
          5.9374,
          5.9416,
          5.9458,
          5.95,
          5.9542,
          5.9584,
          5.9626,
          5.9668,
          5.971,
          5.9752,
          5.9794,
          5.9836,
          5.9878,
          5.992,
          5.9962,
          6.0004,
          6.0046,
          6.0088,
          6.013,
          6.0172,
          6.0214,
          6.025600000000001,
          6.0298,
          6.034,
          6.0382,
          6.042400000000001,
          6.0466,
          6.050800000000001,
          6.055,
          6.059200000000001,
          6.0634,
          6.0676000000000005,
          6.0718,
          6.0760000000000005,
          6.0802000000000005,
          6.0844000000000005,
          6.0886000000000005,
          6.0928,
          6.097,
          6.1012,
          6.1054,
          6.1096,
          6.1138,
          6.118,
          6.1222,
          6.1264,
          6.1306,
          6.1348,
          6.139,
          6.1432,
          6.1474,
          6.1516,
          6.1558,
          6.16,
          6.1642,
          6.1684,
          6.1726,
          6.1768,
          6.181,
          6.1852,
          6.1894,
          6.1936,
          6.1978,
          6.202,
          6.2062,
          6.2104,
          6.2146,
          6.2188,
          6.223,
          6.2272,
          6.231400000000001,
          6.2356,
          6.2398,
          6.244,
          6.248200000000001,
          6.2524,
          6.2566,
          6.2608,
          6.265000000000001,
          6.2692,
          6.2734000000000005,
          6.2776,
          6.2818000000000005,
          6.286,
          6.2902000000000005,
          6.2944,
          6.2986,
          6.3028,
          6.307,
          6.3112,
          6.3154,
          6.3196,
          6.3238,
          6.328,
          6.3322,
          6.3364,
          6.3406,
          6.3448,
          6.349,
          6.3532,
          6.3574,
          6.3616,
          6.3658,
          6.37,
          6.3742,
          6.3784,
          6.3826,
          6.3868,
          6.391,
          6.3952,
          6.3994,
          6.4036,
          6.4078,
          6.412,
          6.4162,
          6.4204,
          6.4246,
          6.4288,
          6.433,
          6.437200000000001,
          6.4414,
          6.4456,
          6.4498,
          6.454000000000001,
          6.4582,
          6.4624,
          6.4666,
          6.4708000000000006,
          6.475,
          6.4792000000000005,
          6.4834,
          6.4876000000000005,
          6.4918,
          6.496,
          6.5002,
          6.5044,
          6.5085999999999995,
          6.5128,
          6.517,
          6.5212,
          6.5254,
          6.5296,
          6.5338,
          6.538,
          6.5422,
          6.5464,
          6.5506,
          6.5548,
          6.559,
          6.5632,
          6.5674,
          6.5716,
          6.5758,
          6.58,
          6.5842,
          6.5884,
          6.5926,
          6.5968,
          6.601,
          6.6052,
          6.6094,
          6.6136,
          6.6178,
          6.622,
          6.6262,
          6.6304,
          6.6346,
          6.6388,
          6.643000000000001,
          6.6472,
          6.6514,
          6.6556,
          6.659800000000001,
          6.664,
          6.6682,
          6.6724,
          6.6766000000000005,
          6.6808,
          6.6850000000000005,
          6.6892,
          6.6934000000000005,
          6.6975999999999996,
          6.7018,
          6.706,
          6.7102,
          6.7143999999999995,
          6.7186,
          6.7228,
          6.727,
          6.731199999999999,
          6.7354,
          6.7396,
          6.7438,
          6.748,
          6.7522,
          6.7564,
          6.7606,
          6.7648,
          6.769,
          6.7732,
          6.7774,
          6.7816,
          6.7858,
          6.79,
          6.7942,
          6.7984,
          6.8026,
          6.8068,
          6.811,
          6.8152,
          6.8194,
          6.8236,
          6.8278,
          6.832,
          6.8362,
          6.8404,
          6.8446,
          6.8488,
          6.853,
          6.8572,
          6.8614,
          6.865600000000001,
          6.8698,
          6.8740000000000006,
          6.8782,
          6.8824000000000005,
          6.8866,
          6.8908000000000005,
          6.895,
          6.8992,
          6.9033999999999995,
          6.9076,
          6.9117999999999995,
          6.916,
          6.9201999999999995,
          6.9244,
          6.928599999999999,
          6.9328,
          6.936999999999999,
          6.9412,
          6.945399999999999,
          6.9496,
          6.9538,
          6.958,
          6.9622,
          6.9664,
          6.970599999999999,
          6.9748,
          6.979,
          6.9832,
          6.9874,
          6.9916,
          6.9958
         ],
         "xaxis": "x",
         "y": {
          "bdata": "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",
          "dtype": "f8"
         },
         "yaxis": "y"
        },
        {
         "legendgroup": "virginica",
         "marker": {
          "color": "#F66095"
         },
         "mode": "lines",
         "name": "virginica",
         "showlegend": false,
         "type": "scatter",
         "x": [
          4.9,
          4.906000000000001,
          4.912,
          4.918,
          4.924,
          4.930000000000001,
          4.936,
          4.942,
          4.948,
          4.954000000000001,
          4.96,
          4.966,
          4.972,
          4.978000000000001,
          4.984,
          4.99,
          4.996,
          5.002000000000001,
          5.008,
          5.014,
          5.0200000000000005,
          5.026000000000001,
          5.032,
          5.038,
          5.0440000000000005,
          5.050000000000001,
          5.056,
          5.062,
          5.0680000000000005,
          5.074000000000001,
          5.08,
          5.086,
          5.0920000000000005,
          5.098000000000001,
          5.104,
          5.11,
          5.1160000000000005,
          5.122000000000001,
          5.128,
          5.134,
          5.140000000000001,
          5.146000000000001,
          5.152,
          5.158,
          5.164000000000001,
          5.17,
          5.176,
          5.182,
          5.188000000000001,
          5.194,
          5.2,
          5.206,
          5.212000000000001,
          5.218,
          5.224,
          5.23,
          5.236000000000001,
          5.242,
          5.248,
          5.2540000000000004,
          5.260000000000001,
          5.266,
          5.272,
          5.2780000000000005,
          5.284000000000001,
          5.29,
          5.296,
          5.3020000000000005,
          5.308000000000001,
          5.314,
          5.32,
          5.3260000000000005,
          5.332000000000001,
          5.338,
          5.344,
          5.3500000000000005,
          5.356000000000001,
          5.362,
          5.368,
          5.3740000000000006,
          5.380000000000001,
          5.386,
          5.392,
          5.398000000000001,
          5.404,
          5.41,
          5.416,
          5.422000000000001,
          5.428000000000001,
          5.434,
          5.44,
          5.446000000000001,
          5.452,
          5.458,
          5.464,
          5.470000000000001,
          5.476,
          5.482,
          5.488,
          5.494000000000001,
          5.5,
          5.506,
          5.5120000000000005,
          5.518000000000001,
          5.524,
          5.53,
          5.5360000000000005,
          5.542000000000001,
          5.548,
          5.554,
          5.5600000000000005,
          5.566000000000001,
          5.572,
          5.578,
          5.5840000000000005,
          5.59,
          5.596,
          5.602,
          5.6080000000000005,
          5.614000000000001,
          5.62,
          5.626,
          5.632000000000001,
          5.638,
          5.644,
          5.65,
          5.656000000000001,
          5.662000000000001,
          5.668,
          5.674,
          5.680000000000001,
          5.686,
          5.692,
          5.698,
          5.704000000000001,
          5.710000000000001,
          5.716,
          5.722,
          5.728000000000001,
          5.734,
          5.74,
          5.746,
          5.752000000000001,
          5.758,
          5.764,
          5.7700000000000005,
          5.776000000000001,
          5.782,
          5.788,
          5.7940000000000005,
          5.800000000000001,
          5.806,
          5.812,
          5.8180000000000005,
          5.824000000000001,
          5.83,
          5.836,
          5.8420000000000005,
          5.848000000000001,
          5.854,
          5.86,
          5.8660000000000005,
          5.872,
          5.878,
          5.884,
          5.890000000000001,
          5.896000000000001,
          5.902,
          5.908,
          5.914000000000001,
          5.92,
          5.926,
          5.932,
          5.938000000000001,
          5.944000000000001,
          5.95,
          5.956,
          5.962000000000001,
          5.968,
          5.974,
          5.98,
          5.986000000000001,
          5.992000000000001,
          5.998,
          6.0040000000000004,
          6.010000000000001,
          6.016,
          6.022,
          6.0280000000000005,
          6.034000000000001,
          6.04,
          6.046,
          6.0520000000000005,
          6.058,
          6.064,
          6.07,
          6.0760000000000005,
          6.082000000000001,
          6.088,
          6.094,
          6.1000000000000005,
          6.106,
          6.112,
          6.118,
          6.1240000000000006,
          6.130000000000001,
          6.136,
          6.142,
          6.148000000000001,
          6.154,
          6.16,
          6.166,
          6.172000000000001,
          6.178000000000001,
          6.184,
          6.19,
          6.196000000000001,
          6.202,
          6.208,
          6.214,
          6.220000000000001,
          6.226000000000001,
          6.232,
          6.238,
          6.244000000000001,
          6.25,
          6.256,
          6.2620000000000005,
          6.268000000000001,
          6.274000000000001,
          6.28,
          6.2860000000000005,
          6.292,
          6.298,
          6.304,
          6.3100000000000005,
          6.316000000000001,
          6.322,
          6.328,
          6.3340000000000005,
          6.34,
          6.346,
          6.352,
          6.3580000000000005,
          6.364000000000001,
          6.37,
          6.376,
          6.382000000000001,
          6.388,
          6.394,
          6.4,
          6.406000000000001,
          6.412000000000001,
          6.418,
          6.424,
          6.430000000000001,
          6.436,
          6.442,
          6.448,
          6.454000000000001,
          6.460000000000001,
          6.466,
          6.472,
          6.478000000000001,
          6.484,
          6.49,
          6.496,
          6.502000000000001,
          6.508000000000001,
          6.514,
          6.5200000000000005,
          6.526,
          6.532,
          6.538,
          6.5440000000000005,
          6.550000000000001,
          6.556,
          6.562,
          6.5680000000000005,
          6.574,
          6.58,
          6.586,
          6.5920000000000005,
          6.598000000000001,
          6.604,
          6.61,
          6.6160000000000005,
          6.622,
          6.628,
          6.634,
          6.640000000000001,
          6.646000000000001,
          6.652,
          6.658,
          6.664000000000001,
          6.67,
          6.676,
          6.682,
          6.688000000000001,
          6.694000000000001,
          6.7,
          6.706,
          6.712000000000001,
          6.718,
          6.724,
          6.73,
          6.736000000000001,
          6.742000000000001,
          6.748,
          6.7540000000000004,
          6.760000000000001,
          6.766,
          6.772,
          6.7780000000000005,
          6.784000000000001,
          6.79,
          6.796,
          6.8020000000000005,
          6.808,
          6.814,
          6.82,
          6.8260000000000005,
          6.832000000000001,
          6.838,
          6.844,
          6.8500000000000005,
          6.856,
          6.862,
          6.868,
          6.8740000000000006,
          6.880000000000001,
          6.886,
          6.892,
          6.898000000000001,
          6.904,
          6.91,
          6.916,
          6.922000000000001,
          6.928000000000001,
          6.934,
          6.94,
          6.946,
          6.952,
          6.958,
          6.964,
          6.970000000000001,
          6.976000000000001,
          6.982,
          6.988,
          6.994,
          7,
          7.006,
          7.0120000000000005,
          7.018000000000001,
          7.024000000000001,
          7.03,
          7.0360000000000005,
          7.042,
          7.048,
          7.054,
          7.0600000000000005,
          7.066000000000001,
          7.072000000000001,
          7.078,
          7.0840000000000005,
          7.09,
          7.096,
          7.102,
          7.1080000000000005,
          7.114000000000001,
          7.120000000000001,
          7.126,
          7.132000000000001,
          7.138,
          7.144,
          7.15,
          7.156000000000001,
          7.162000000000001,
          7.168,
          7.174,
          7.18,
          7.186,
          7.192,
          7.198,
          7.204000000000001,
          7.210000000000001,
          7.216,
          7.222,
          7.228,
          7.234,
          7.24,
          7.246,
          7.252000000000001,
          7.258000000000001,
          7.264,
          7.2700000000000005,
          7.276,
          7.282,
          7.288,
          7.2940000000000005,
          7.300000000000001,
          7.306000000000001,
          7.312,
          7.3180000000000005,
          7.324,
          7.33,
          7.336,
          7.3420000000000005,
          7.348000000000001,
          7.354000000000001,
          7.36,
          7.3660000000000005,
          7.372,
          7.378,
          7.384,
          7.390000000000001,
          7.396000000000001,
          7.402,
          7.408,
          7.414,
          7.42,
          7.426,
          7.432,
          7.438000000000001,
          7.444000000000001,
          7.45,
          7.456,
          7.462,
          7.468,
          7.474,
          7.48,
          7.486000000000001,
          7.492000000000001,
          7.498,
          7.5040000000000004,
          7.51,
          7.516,
          7.522,
          7.5280000000000005,
          7.534000000000001,
          7.540000000000001,
          7.546,
          7.5520000000000005,
          7.558,
          7.564,
          7.57,
          7.5760000000000005,
          7.582000000000001,
          7.588000000000001,
          7.594,
          7.6000000000000005,
          7.606,
          7.612,
          7.618,
          7.6240000000000006,
          7.630000000000001,
          7.636000000000001,
          7.642,
          7.648000000000001,
          7.654,
          7.66,
          7.666,
          7.672000000000001,
          7.678000000000001,
          7.684,
          7.69,
          7.696,
          7.702,
          7.708,
          7.714,
          7.720000000000001,
          7.726000000000001,
          7.732,
          7.738,
          7.744,
          7.75,
          7.756,
          7.7620000000000005,
          7.768000000000001,
          7.774000000000001,
          7.78,
          7.7860000000000005,
          7.792,
          7.798,
          7.804,
          7.8100000000000005,
          7.816000000000001,
          7.822000000000001,
          7.828,
          7.8340000000000005,
          7.84,
          7.846,
          7.852,
          7.8580000000000005,
          7.864000000000001,
          7.870000000000001,
          7.876,
          7.882000000000001,
          7.888,
          7.894
         ],
         "xaxis": "x",
         "y": {
          "bdata": "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",
          "dtype": "f8"
         },
         "yaxis": "y"
        }
       ],
       "layout": {
        "barmode": "overlay",
        "hovermode": "closest",
        "legend": {
         "traceorder": "reversed"
        },
        "template": {
         "data": {
          "bar": [
           {
            "error_x": {
             "color": "#2a3f5f"
            },
            "error_y": {
             "color": "#2a3f5f"
            },
            "marker": {
             "line": {
              "color": "#E5ECF6",
              "width": 0.5
             },
             "pattern": {
              "fillmode": "overlay",
              "size": 10,
              "solidity": 0.2
             }
            },
            "type": "bar"
           }
          ],
          "barpolar": [
           {
            "marker": {
             "line": {
              "color": "#E5ECF6",
              "width": 0.5
             },
             "pattern": {
              "fillmode": "overlay",
              "size": 10,
              "solidity": 0.2
             }
            },
            "type": "barpolar"
           }
          ],
          "carpet": [
           {
            "aaxis": {
             "endlinecolor": "#2a3f5f",
             "gridcolor": "white",
             "linecolor": "white",
             "minorgridcolor": "white",
             "startlinecolor": "#2a3f5f"
            },
            "baxis": {
             "endlinecolor": "#2a3f5f",
             "gridcolor": "white",
             "linecolor": "white",
             "minorgridcolor": "white",
             "startlinecolor": "#2a3f5f"
            },
            "type": "carpet"
           }
          ],
          "choropleth": [
           {
            "colorbar": {
             "outlinewidth": 0,
             "ticks": ""
            },
            "type": "choropleth"
           }
          ],
          "contour": [
           {
            "colorbar": {
             "outlinewidth": 0,
             "ticks": ""
            },
            "colorscale": [
             [
              0,
              "#0d0887"
             ],
             [
              0.1111111111111111,
              "#46039f"
             ],
             [
              0.2222222222222222,
              "#7201a8"
             ],
             [
              0.3333333333333333,
              "#9c179e"
             ],
             [
              0.4444444444444444,
              "#bd3786"
             ],
             [
              0.5555555555555556,
              "#d8576b"
             ],
             [
              0.6666666666666666,
              "#ed7953"
             ],
             [
              0.7777777777777778,
              "#fb9f3a"
             ],
             [
              0.8888888888888888,
              "#fdca26"
             ],
             [
              1,
              "#f0f921"
             ]
            ],
            "type": "contour"
           }
          ],
          "contourcarpet": [
           {
            "colorbar": {
             "outlinewidth": 0,
             "ticks": ""
            },
            "type": "contourcarpet"
           }
          ],
          "heatmap": [
           {
            "colorbar": {
             "outlinewidth": 0,
             "ticks": ""
            },
            "colorscale": [
             [
              0,
              "#0d0887"
             ],
             [
              0.1111111111111111,
              "#46039f"
             ],
             [
              0.2222222222222222,
              "#7201a8"
             ],
             [
              0.3333333333333333,
              "#9c179e"
             ],
             [
              0.4444444444444444,
              "#bd3786"
             ],
             [
              0.5555555555555556,
              "#d8576b"
             ],
             [
              0.6666666666666666,
              "#ed7953"
             ],
             [
              0.7777777777777778,
              "#fb9f3a"
             ],
             [
              0.8888888888888888,
              "#fdca26"
             ],
             [
              1,
              "#f0f921"
             ]
            ],
            "type": "heatmap"
           }
          ],
          "histogram": [
           {
            "marker": {
             "pattern": {
              "fillmode": "overlay",
              "size": 10,
              "solidity": 0.2
             }
            },
            "type": "histogram"
           }
          ],
          "histogram2d": [
           {
            "colorbar": {
             "outlinewidth": 0,
             "ticks": ""
            },
            "colorscale": [
             [
              0,
              "#0d0887"
             ],
             [
              0.1111111111111111,
              "#46039f"
             ],
             [
              0.2222222222222222,
              "#7201a8"
             ],
             [
              0.3333333333333333,
              "#9c179e"
             ],
             [
              0.4444444444444444,
              "#bd3786"
             ],
             [
              0.5555555555555556,
              "#d8576b"
             ],
             [
              0.6666666666666666,
              "#ed7953"
             ],
             [
              0.7777777777777778,
              "#fb9f3a"
             ],
             [
              0.8888888888888888,
              "#fdca26"
             ],
             [
              1,
              "#f0f921"
             ]
            ],
            "type": "histogram2d"
           }
          ],
          "histogram2dcontour": [
           {
            "colorbar": {
             "outlinewidth": 0,
             "ticks": ""
            },
            "colorscale": [
             [
              0,
              "#0d0887"
             ],
             [
              0.1111111111111111,
              "#46039f"
             ],
             [
              0.2222222222222222,
              "#7201a8"
             ],
             [
              0.3333333333333333,
              "#9c179e"
             ],
             [
              0.4444444444444444,
              "#bd3786"
             ],
             [
              0.5555555555555556,
              "#d8576b"
             ],
             [
              0.6666666666666666,
              "#ed7953"
             ],
             [
              0.7777777777777778,
              "#fb9f3a"
             ],
             [
              0.8888888888888888,
              "#fdca26"
             ],
             [
              1,
              "#f0f921"
             ]
            ],
            "type": "histogram2dcontour"
           }
          ],
          "mesh3d": [
           {
            "colorbar": {
             "outlinewidth": 0,
             "ticks": ""
            },
            "type": "mesh3d"
           }
          ],
          "parcoords": [
           {
            "line": {
             "colorbar": {
              "outlinewidth": 0,
              "ticks": ""
             }
            },
            "type": "parcoords"
           }
          ],
          "pie": [
           {
            "automargin": true,
            "type": "pie"
           }
          ],
          "scatter": [
           {
            "fillpattern": {
             "fillmode": "overlay",
             "size": 10,
             "solidity": 0.2
            },
            "type": "scatter"
           }
          ],
          "scatter3d": [
           {
            "line": {
             "colorbar": {
              "outlinewidth": 0,
              "ticks": ""
             }
            },
            "marker": {
             "colorbar": {
              "outlinewidth": 0,
              "ticks": ""
             }
            },
            "type": "scatter3d"
           }
          ],
          "scattercarpet": [
           {
            "marker": {
             "colorbar": {
              "outlinewidth": 0,
              "ticks": ""
             }
            },
            "type": "scattercarpet"
           }
          ],
          "scattergeo": [
           {
            "marker": {
             "colorbar": {
              "outlinewidth": 0,
              "ticks": ""
             }
            },
            "type": "scattergeo"
           }
          ],
          "scattergl": [
           {
            "marker": {
             "colorbar": {
              "outlinewidth": 0,
              "ticks": ""
             }
            },
            "type": "scattergl"
           }
          ],
          "scattermap": [
           {
            "marker": {
             "colorbar": {
              "outlinewidth": 0,
              "ticks": ""
             }
            },
            "type": "scattermap"
           }
          ],
          "scattermapbox": [
           {
            "marker": {
             "colorbar": {
              "outlinewidth": 0,
              "ticks": ""
             }
            },
            "type": "scattermapbox"
           }
          ],
          "scatterpolar": [
           {
            "marker": {
             "colorbar": {
              "outlinewidth": 0,
              "ticks": ""
             }
            },
            "type": "scatterpolar"
           }
          ],
          "scatterpolargl": [
           {
            "marker": {
             "colorbar": {
              "outlinewidth": 0,
              "ticks": ""
             }
            },
            "type": "scatterpolargl"
           }
          ],
          "scatterternary": [
           {
            "marker": {
             "colorbar": {
              "outlinewidth": 0,
              "ticks": ""
             }
            },
            "type": "scatterternary"
           }
          ],
          "surface": [
           {
            "colorbar": {
             "outlinewidth": 0,
             "ticks": ""
            },
            "colorscale": [
             [
              0,
              "#0d0887"
             ],
             [
              0.1111111111111111,
              "#46039f"
             ],
             [
              0.2222222222222222,
              "#7201a8"
             ],
             [
              0.3333333333333333,
              "#9c179e"
             ],
             [
              0.4444444444444444,
              "#bd3786"
             ],
             [
              0.5555555555555556,
              "#d8576b"
             ],
             [
              0.6666666666666666,
              "#ed7953"
             ],
             [
              0.7777777777777778,
              "#fb9f3a"
             ],
             [
              0.8888888888888888,
              "#fdca26"
             ],
             [
              1,
              "#f0f921"
             ]
            ],
            "type": "surface"
           }
          ],
          "table": [
           {
            "cells": {
             "fill": {
              "color": "#EBF0F8"
             },
             "line": {
              "color": "white"
             }
            },
            "header": {
             "fill": {
              "color": "#C8D4E3"
             },
             "line": {
              "color": "white"
             }
            },
            "type": "table"
           }
          ]
         },
         "layout": {
          "annotationdefaults": {
           "arrowcolor": "#2a3f5f",
           "arrowhead": 0,
           "arrowwidth": 1
          },
          "autotypenumbers": "strict",
          "coloraxis": {
           "colorbar": {
            "outlinewidth": 0,
            "ticks": ""
           }
          },
          "colorscale": {
           "diverging": [
            [
             0,
             "#8e0152"
            ],
            [
             0.1,
             "#c51b7d"
            ],
            [
             0.2,
             "#de77ae"
            ],
            [
             0.3,
             "#f1b6da"
            ],
            [
             0.4,
             "#fde0ef"
            ],
            [
             0.5,
             "#f7f7f7"
            ],
            [
             0.6,
             "#e6f5d0"
            ],
            [
             0.7,
             "#b8e186"
            ],
            [
             0.8,
             "#7fbc41"
            ],
            [
             0.9,
             "#4d9221"
            ],
            [
             1,
             "#276419"
            ]
           ],
           "sequential": [
            [
             0,
             "#0d0887"
            ],
            [
             0.1111111111111111,
             "#46039f"
            ],
            [
             0.2222222222222222,
             "#7201a8"
            ],
            [
             0.3333333333333333,
             "#9c179e"
            ],
            [
             0.4444444444444444,
             "#bd3786"
            ],
            [
             0.5555555555555556,
             "#d8576b"
            ],
            [
             0.6666666666666666,
             "#ed7953"
            ],
            [
             0.7777777777777778,
             "#fb9f3a"
            ],
            [
             0.8888888888888888,
             "#fdca26"
            ],
            [
             1,
             "#f0f921"
            ]
           ],
           "sequentialminus": [
            [
             0,
             "#0d0887"
            ],
            [
             0.1111111111111111,
             "#46039f"
            ],
            [
             0.2222222222222222,
             "#7201a8"
            ],
            [
             0.3333333333333333,
             "#9c179e"
            ],
            [
             0.4444444444444444,
             "#bd3786"
            ],
            [
             0.5555555555555556,
             "#d8576b"
            ],
            [
             0.6666666666666666,
             "#ed7953"
            ],
            [
             0.7777777777777778,
             "#fb9f3a"
            ],
            [
             0.8888888888888888,
             "#fdca26"
            ],
            [
             1,
             "#f0f921"
            ]
           ]
          },
          "colorway": [
           "#636efa",
           "#EF553B",
           "#00cc96",
           "#ab63fa",
           "#FFA15A",
           "#19d3f3",
           "#FF6692",
           "#B6E880",
           "#FF97FF",
           "#FECB52"
          ],
          "font": {
           "color": "#2a3f5f"
          },
          "geo": {
           "bgcolor": "white",
           "lakecolor": "white",
           "landcolor": "#E5ECF6",
           "showlakes": true,
           "showland": true,
           "subunitcolor": "white"
          },
          "hoverlabel": {
           "align": "left"
          },
          "hovermode": "closest",
          "mapbox": {
           "style": "light"
          },
          "paper_bgcolor": "white",
          "plot_bgcolor": "#E5ECF6",
          "polar": {
           "angularaxis": {
            "gridcolor": "white",
            "linecolor": "white",
            "ticks": ""
           },
           "bgcolor": "#E5ECF6",
           "radialaxis": {
            "gridcolor": "white",
            "linecolor": "white",
            "ticks": ""
           }
          },
          "scene": {
           "xaxis": {
            "backgroundcolor": "#E5ECF6",
            "gridcolor": "white",
            "gridwidth": 2,
            "linecolor": "white",
            "showbackground": true,
            "ticks": "",
            "zerolinecolor": "white"
           },
           "yaxis": {
            "backgroundcolor": "#E5ECF6",
            "gridcolor": "white",
            "gridwidth": 2,
            "linecolor": "white",
            "showbackground": true,
            "ticks": "",
            "zerolinecolor": "white"
           },
           "zaxis": {
            "backgroundcolor": "#E5ECF6",
            "gridcolor": "white",
            "gridwidth": 2,
            "linecolor": "white",
            "showbackground": true,
            "ticks": "",
            "zerolinecolor": "white"
           }
          },
          "shapedefaults": {
           "line": {
            "color": "#2a3f5f"
           }
          },
          "ternary": {
           "aaxis": {
            "gridcolor": "white",
            "linecolor": "white",
            "ticks": ""
           },
           "baxis": {
            "gridcolor": "white",
            "linecolor": "white",
            "ticks": ""
           },
           "bgcolor": "#E5ECF6",
           "caxis": {
            "gridcolor": "white",
            "linecolor": "white",
            "ticks": ""
           }
          },
          "title": {
           "x": 0.05
          },
          "xaxis": {
           "automargin": true,
           "gridcolor": "white",
           "linecolor": "white",
           "ticks": "",
           "title": {
            "standoff": 15
           },
           "zerolinecolor": "white",
           "zerolinewidth": 2
          },
          "yaxis": {
           "automargin": true,
           "gridcolor": "white",
           "linecolor": "white",
           "ticks": "",
           "title": {
            "standoff": 15
           },
           "zerolinecolor": "white",
           "zerolinewidth": 2
          }
         }
        },
        "title": {
         "text": "종류 별 꽃받침 길이 Hist and Curve Plot"
        },
        "xaxis": {
         "anchor": "y2",
         "domain": [
          0,
          1
         ],
         "zeroline": false
        },
        "yaxis": {
         "anchor": "free",
         "domain": [
          0,
          1
         ],
         "position": 0
        }
       }
      }
     },
     "metadata": {},
     "output_type": "display_data"
    }
   ],
   "source": [
    "import plotly.figure_factory as ff\n",
    "import numpy as np\n",
    "import seaborn as sns\n",
    "\n",
    "df = sns.load_dataset('iris')\n",
    "\n",
    "x1 = df[df['species'] == 'setosa']['sepal_length'].tolist()\n",
    "x2 = df[df['species'] == 'versicolor']['sepal_length'].tolist()\n",
    "x3 = df[df['species'] == 'virginica']['sepal_length'].tolist()\n",
    "\n",
    "hist_df = [x1, x2, x3]\n",
    "\n",
    "group_labels = ['setosa','versicolor','virginica']\n",
    "colors = ['#393E46', '#2BCDC1', '#F66095']\n",
    "\n",
    "# Create distplot with curve_type set to 'normal'\n",
    "fig = ff.create_distplot(hist_df , group_labels, colors=colors,show_rug=False)\n",
    "\n",
    "# Add title\n",
    "fig.update_layout(title_text='종류 별 꽃받침 길이 Hist and Curve Plot')\n",
    "fig.show()"
   ]
  },
  {
   "cell_type": "code",
   "execution_count": null,
   "id": "454be965",
   "metadata": {},
   "outputs": [],
   "source": [
    "col_sp_len = st.columns(2)\n",
    "with col_sp_len[0]:\n",
    "    x1_sp_len = df[df['species'] == 'setosa']['sepal_length'].tolist()\n",
    "    x2_sp_len = df[df['species'] == 'versicolor']['sepal_length'].tolist()\n",
    "    x3_sp_len = df[df['species'] == 'virginica']['sepal_length'].tolist()\n",
    "    hist_df_sp_len = [x1_sp_len, x2_sp_len, x3_sp_len]\n",
    "    # Create distplot with curve_type set to 'normal'\n",
    "    fig = ff.create_distplot(hist_df_sp_len , group_labels, colors=colors,show_rug=False)\n",
    "    # Add title\n",
    "    fig.update_layout(title_text='종류 별 꽃받침 길이 Hist and Curve Plot')\n",
    "    st.plotly_chart(fig)\n",
    "\n",
    "with col_sp_len[1]:\n",
    "    x1_sp_wid = df[df['species'] == 'setosa']['sepal_width'].tolist()\n",
    "    x2_sp_wid = df[df['species'] == 'versicolor']['sepal_width'].tolist()\n",
    "    x3_sp_wid = df[df['species'] == 'virginica']['sepal_width'].tolist()\n",
    "    hist_df_sp_wid = [x1_sp_wid, x2_sp_wid, x3_sp_wid]\n",
    "    # Create distplot with curve_type set to 'normal'\n",
    "    fig = ff.create_distplot(hist_df_sp_wid , group_labels, colors=colors,show_rug=False)\n",
    "    # Add title\n",
    "    fig.update_layout(title_text='종류 별 꽃받침 너비 Hist and Curve Plot')\n",
    "    st.plotly_chart(fig)"
   ]
  },
  {
   "cell_type": "code",
   "execution_count": 6,
   "id": "185569f6",
   "metadata": {},
   "outputs": [
    {
     "data": {
      "text/html": [
       "<div>\n",
       "<style scoped>\n",
       "    .dataframe tbody tr th:only-of-type {\n",
       "        vertical-align: middle;\n",
       "    }\n",
       "\n",
       "    .dataframe tbody tr th {\n",
       "        vertical-align: top;\n",
       "    }\n",
       "\n",
       "    .dataframe thead th {\n",
       "        text-align: right;\n",
       "    }\n",
       "</style>\n",
       "<table border=\"1\" class=\"dataframe\">\n",
       "  <thead>\n",
       "    <tr style=\"text-align: right;\">\n",
       "      <th></th>\n",
       "      <th>sepal_length</th>\n",
       "      <th>sepal_width</th>\n",
       "      <th>petal_length</th>\n",
       "      <th>petal_width</th>\n",
       "      <th>species</th>\n",
       "      <th>species_id</th>\n",
       "    </tr>\n",
       "  </thead>\n",
       "  <tbody>\n",
       "    <tr>\n",
       "      <th>0</th>\n",
       "      <td>5.1</td>\n",
       "      <td>3.5</td>\n",
       "      <td>1.4</td>\n",
       "      <td>0.2</td>\n",
       "      <td>setosa</td>\n",
       "      <td>1</td>\n",
       "    </tr>\n",
       "    <tr>\n",
       "      <th>1</th>\n",
       "      <td>4.9</td>\n",
       "      <td>3.0</td>\n",
       "      <td>1.4</td>\n",
       "      <td>0.2</td>\n",
       "      <td>setosa</td>\n",
       "      <td>1</td>\n",
       "    </tr>\n",
       "    <tr>\n",
       "      <th>2</th>\n",
       "      <td>4.7</td>\n",
       "      <td>3.2</td>\n",
       "      <td>1.3</td>\n",
       "      <td>0.2</td>\n",
       "      <td>setosa</td>\n",
       "      <td>1</td>\n",
       "    </tr>\n",
       "    <tr>\n",
       "      <th>3</th>\n",
       "      <td>4.6</td>\n",
       "      <td>3.1</td>\n",
       "      <td>1.5</td>\n",
       "      <td>0.2</td>\n",
       "      <td>setosa</td>\n",
       "      <td>1</td>\n",
       "    </tr>\n",
       "    <tr>\n",
       "      <th>4</th>\n",
       "      <td>5.0</td>\n",
       "      <td>3.6</td>\n",
       "      <td>1.4</td>\n",
       "      <td>0.2</td>\n",
       "      <td>setosa</td>\n",
       "      <td>1</td>\n",
       "    </tr>\n",
       "    <tr>\n",
       "      <th>...</th>\n",
       "      <td>...</td>\n",
       "      <td>...</td>\n",
       "      <td>...</td>\n",
       "      <td>...</td>\n",
       "      <td>...</td>\n",
       "      <td>...</td>\n",
       "    </tr>\n",
       "    <tr>\n",
       "      <th>145</th>\n",
       "      <td>6.7</td>\n",
       "      <td>3.0</td>\n",
       "      <td>5.2</td>\n",
       "      <td>2.3</td>\n",
       "      <td>virginica</td>\n",
       "      <td>3</td>\n",
       "    </tr>\n",
       "    <tr>\n",
       "      <th>146</th>\n",
       "      <td>6.3</td>\n",
       "      <td>2.5</td>\n",
       "      <td>5.0</td>\n",
       "      <td>1.9</td>\n",
       "      <td>virginica</td>\n",
       "      <td>3</td>\n",
       "    </tr>\n",
       "    <tr>\n",
       "      <th>147</th>\n",
       "      <td>6.5</td>\n",
       "      <td>3.0</td>\n",
       "      <td>5.2</td>\n",
       "      <td>2.0</td>\n",
       "      <td>virginica</td>\n",
       "      <td>3</td>\n",
       "    </tr>\n",
       "    <tr>\n",
       "      <th>148</th>\n",
       "      <td>6.2</td>\n",
       "      <td>3.4</td>\n",
       "      <td>5.4</td>\n",
       "      <td>2.3</td>\n",
       "      <td>virginica</td>\n",
       "      <td>3</td>\n",
       "    </tr>\n",
       "    <tr>\n",
       "      <th>149</th>\n",
       "      <td>5.9</td>\n",
       "      <td>3.0</td>\n",
       "      <td>5.1</td>\n",
       "      <td>1.8</td>\n",
       "      <td>virginica</td>\n",
       "      <td>3</td>\n",
       "    </tr>\n",
       "  </tbody>\n",
       "</table>\n",
       "<p>150 rows × 6 columns</p>\n",
       "</div>"
      ],
      "text/plain": [
       "     sepal_length  sepal_width  petal_length  petal_width    species  \\\n",
       "0             5.1          3.5           1.4          0.2     setosa   \n",
       "1             4.9          3.0           1.4          0.2     setosa   \n",
       "2             4.7          3.2           1.3          0.2     setosa   \n",
       "3             4.6          3.1           1.5          0.2     setosa   \n",
       "4             5.0          3.6           1.4          0.2     setosa   \n",
       "..            ...          ...           ...          ...        ...   \n",
       "145           6.7          3.0           5.2          2.3  virginica   \n",
       "146           6.3          2.5           5.0          1.9  virginica   \n",
       "147           6.5          3.0           5.2          2.0  virginica   \n",
       "148           6.2          3.4           5.4          2.3  virginica   \n",
       "149           5.9          3.0           5.1          1.8  virginica   \n",
       "\n",
       "     species_id  \n",
       "0             1  \n",
       "1             1  \n",
       "2             1  \n",
       "3             1  \n",
       "4             1  \n",
       "..          ...  \n",
       "145           3  \n",
       "146           3  \n",
       "147           3  \n",
       "148           3  \n",
       "149           3  \n",
       "\n",
       "[150 rows x 6 columns]"
      ]
     },
     "execution_count": 6,
     "metadata": {},
     "output_type": "execute_result"
    }
   ],
   "source": [
    "df = px.data.iris()\n",
    "df"
   ]
  },
  {
   "cell_type": "code",
   "execution_count": 6,
   "id": "8a187ed9",
   "metadata": {},
   "outputs": [
    {
     "name": "stderr",
     "output_type": "stream",
     "text": [
      "2025-07-17 14:45:42.378 Thread 'MainThread': missing ScriptRunContext! This warning can be ignored when running in bare mode.\n",
      "2025-07-17 14:45:42.386 Thread 'MainThread': missing ScriptRunContext! This warning can be ignored when running in bare mode.\n",
      "2025-07-17 14:45:42.386 Thread 'MainThread': missing ScriptRunContext! This warning can be ignored when running in bare mode.\n",
      "2025-07-17 14:45:42.386 Thread 'MainThread': missing ScriptRunContext! This warning can be ignored when running in bare mode.\n",
      "2025-07-17 14:45:42.386 Thread 'MainThread': missing ScriptRunContext! This warning can be ignored when running in bare mode.\n",
      "2025-07-17 14:45:42.386 Thread 'MainThread': missing ScriptRunContext! This warning can be ignored when running in bare mode.\n",
      "2025-07-17 14:45:42.386 Thread 'MainThread': missing ScriptRunContext! This warning can be ignored when running in bare mode.\n",
      "2025-07-17 14:45:42.437 Thread 'MainThread': missing ScriptRunContext! This warning can be ignored when running in bare mode.\n",
      "2025-07-17 14:45:42.437 Thread 'MainThread': missing ScriptRunContext! This warning can be ignored when running in bare mode.\n",
      "2025-07-17 14:45:42.437 Thread 'MainThread': missing ScriptRunContext! This warning can be ignored when running in bare mode.\n",
      "2025-07-17 14:45:42.440 Thread 'MainThread': missing ScriptRunContext! This warning can be ignored when running in bare mode.\n",
      "2025-07-17 14:45:42.440 Thread 'MainThread': missing ScriptRunContext! This warning can be ignored when running in bare mode.\n"
     ]
    },
    {
     "name": "stdout",
     "output_type": "stream",
     "text": [
      "['setosa', 'versicolor', 'virginica', 'all']\n"
     ]
    },
    {
     "data": {
      "text/plain": [
       "DeltaGenerator()"
      ]
     },
     "execution_count": 6,
     "metadata": {},
     "output_type": "execute_result"
    }
   ],
   "source": [
    "import pandas as pd\n",
    "import plotly.express as px\n",
    "import streamlit as st\n",
    "\n",
    "\n",
    "df = px.data.iris()\n",
    "\n",
    "species_ls = df['species'].unique().tolist()\n",
    "species_ls.append('all')\n",
    "print(species_ls)\n",
    "input_species = st.selectbox(\"붓꽃 종류\", options=species_ls)\n",
    "\n",
    "df = df[df['species']==input_species]\n",
    "\n",
    "fig = px.scatter(df, x='sepal_length',y = 'sepal_width',\n",
    "color = 'species', title='붓꽃 꽃받침 길이&너비 산점도')\n",
    "\n",
    "st.plotly_chart(fig)"
   ]
  },
  {
   "cell_type": "code",
   "execution_count": null,
   "id": "d350c7fe",
   "metadata": {},
   "outputs": [],
   "source": [
    "import pandas as pd\n",
    "import plotly.express as px\n",
    "import streamlit as st\n",
    "\n",
    "\n",
    "df = px.data.iris()\n",
    "\n",
    "species_ls = ['all']\n",
    "species_ls.extend(df['species'].unique())\n",
    "\n",
    "input_species = st.selectbox(\"붓꽃 종류\", options=species_ls)\n",
    "\n",
    "\n",
    "fig = px.scatter(df, x='sepal_length',y = 'sepal_width',\n",
    "color = 'species', title='붓꽃 꽃받침 길이&너비 산점도',)\n",
    "\n",
    "if input_species != \"all\":\n",
    "    fig.update_layout()\n",
    "\n",
    "st.plotly_chart(fig)"
   ]
  },
  {
   "cell_type": "code",
   "execution_count": 7,
   "id": "05318480",
   "metadata": {},
   "outputs": [
    {
     "data": {
      "text/plain": [
       "Index(['sepal_length', 'sepal_width', 'petal_length', 'petal_width', 'species',\n",
       "       'species_id'],\n",
       "      dtype='object')"
      ]
     },
     "execution_count": 7,
     "metadata": {},
     "output_type": "execute_result"
    }
   ],
   "source": [
    "df = px.data.iris()\n",
    "df.columns"
   ]
  },
  {
   "cell_type": "code",
   "execution_count": 8,
   "id": "3d00b09e",
   "metadata": {},
   "outputs": [
    {
     "data": {
      "text/plain": [
       "0      5.1\n",
       "1      4.9\n",
       "2      4.7\n",
       "3      4.6\n",
       "4      5.0\n",
       "      ... \n",
       "145    6.7\n",
       "146    6.3\n",
       "147    6.5\n",
       "148    6.2\n",
       "149    5.9\n",
       "Name: sepal_length, Length: 150, dtype: float64"
      ]
     },
     "execution_count": 8,
     "metadata": {},
     "output_type": "execute_result"
    }
   ],
   "source": [
    "df.sepal_length"
   ]
  },
  {
   "cell_type": "code",
   "execution_count": 22,
   "id": "985ee6bd",
   "metadata": {},
   "outputs": [
    {
     "data": {
      "application/vnd.plotly.v1+json": {
       "config": {
        "plotlyServerURL": "https://plot.ly"
       },
       "data": [
        {
         "line": {
          "color": "DarkBlue"
         },
         "mode": "markers",
         "name": "setosa",
         "showlegend": true,
         "type": "scatter",
         "x": [
          5.1,
          4.9,
          4.7,
          4.6,
          5,
          5.4,
          4.6,
          5,
          4.4,
          4.9,
          5.4,
          4.8,
          4.8,
          4.3,
          5.8,
          5.7,
          5.4,
          5.1,
          5.7,
          5.1,
          5.4,
          5.1,
          4.6,
          5.1,
          4.8,
          5,
          5,
          5.2,
          5.2,
          4.7,
          4.8,
          5.4,
          5.2,
          5.5,
          4.9,
          5,
          5.5,
          4.9,
          4.4,
          5.1,
          5,
          4.5,
          4.4,
          5,
          5.1,
          4.8,
          5.1,
          4.6,
          5.3,
          5
         ],
         "y": [
          3.5,
          3,
          3.2,
          3.1,
          3.6,
          3.9,
          3.4,
          3.4,
          2.9,
          3.1,
          3.7,
          3.4,
          3,
          3,
          4,
          4.4,
          3.9,
          3.5,
          3.8,
          3.8,
          3.4,
          3.7,
          3.6,
          3.3,
          3.4,
          3,
          3.4,
          3.5,
          3.4,
          3.2,
          3.1,
          3.4,
          4.1,
          4.2,
          3.1,
          3.2,
          3.5,
          3.1,
          3,
          3.4,
          3.5,
          2.3,
          3.2,
          3.5,
          3.8,
          3,
          3.8,
          3.2,
          3.7,
          3.3
         ]
        },
        {
         "line": {
          "color": "Green"
         },
         "mode": "markers",
         "name": "virginica",
         "showlegend": true,
         "type": "scatter",
         "x": [
          6.3,
          5.8,
          7.1,
          6.3,
          6.5,
          7.6,
          4.9,
          7.3,
          6.7,
          7.2,
          6.5,
          6.4,
          6.8,
          5.7,
          5.8,
          6.4,
          6.5,
          7.7,
          7.7,
          6,
          6.9,
          5.6,
          7.7,
          6.3,
          6.7,
          7.2,
          6.2,
          6.1,
          6.4,
          7.2,
          7.4,
          7.9,
          6.4,
          6.3,
          6.1,
          7.7,
          6.3,
          6.4,
          6,
          6.9,
          6.7,
          6.9,
          5.8,
          6.8,
          6.7,
          6.7,
          6.3,
          6.5,
          6.2,
          5.9
         ],
         "y": [
          3.3,
          2.7,
          3,
          2.9,
          3,
          3,
          2.5,
          2.9,
          2.5,
          3.6,
          3.2,
          2.7,
          3,
          2.5,
          2.8,
          3.2,
          3,
          3.8,
          2.6,
          2.2,
          3.2,
          2.8,
          2.8,
          2.7,
          3.3,
          3.2,
          2.8,
          3,
          2.8,
          3,
          2.8,
          3.8,
          2.8,
          2.8,
          2.6,
          3,
          3.4,
          3.1,
          3,
          3.1,
          3.1,
          3.1,
          2.7,
          3.2,
          3.3,
          3,
          2.5,
          3,
          3.4,
          3
         ]
        },
        {
         "line": {
          "color": "Crimson"
         },
         "mode": "markers",
         "name": "versicolor",
         "showlegend": true,
         "type": "scatter",
         "x": [
          7,
          6.4,
          6.9,
          5.5,
          6.5,
          5.7,
          6.3,
          4.9,
          6.6,
          5.2,
          5,
          5.9,
          6,
          6.1,
          5.6,
          6.7,
          5.6,
          5.8,
          6.2,
          5.6,
          5.9,
          6.1,
          6.3,
          6.1,
          6.4,
          6.6,
          6.8,
          6.7,
          6,
          5.7,
          5.5,
          5.5,
          5.8,
          6,
          5.4,
          6,
          6.7,
          6.3,
          5.6,
          5.5,
          5.5,
          6.1,
          5.8,
          5,
          5.6,
          5.7,
          5.7,
          6.2,
          5.1,
          5.7
         ],
         "y": [
          3.2,
          3.2,
          3.1,
          2.3,
          2.8,
          2.8,
          3.3,
          2.4,
          2.9,
          2.7,
          2,
          3,
          2.2,
          2.9,
          2.9,
          3.1,
          3,
          2.7,
          2.2,
          2.5,
          3.2,
          2.8,
          2.5,
          2.8,
          2.9,
          3,
          2.8,
          3,
          2.9,
          2.6,
          2.4,
          2.4,
          2.7,
          2.7,
          3,
          3.4,
          3.1,
          2.3,
          3,
          2.5,
          2.6,
          3,
          2.6,
          2.3,
          2.7,
          3,
          2.9,
          2.9,
          2.5,
          2.8
         ]
        }
       ],
       "layout": {
        "template": {
         "data": {
          "candlestick": [
           {
            "decreasing": {
             "line": {
              "color": "#000033"
             }
            },
            "increasing": {
             "line": {
              "color": "#000032"
             }
            },
            "type": "candlestick"
           }
          ],
          "contour": [
           {
            "colorscale": [
             [
              0,
              "#000011"
             ],
             [
              0.1111111111111111,
              "#000012"
             ],
             [
              0.2222222222222222,
              "#000013"
             ],
             [
              0.3333333333333333,
              "#000014"
             ],
             [
              0.4444444444444444,
              "#000015"
             ],
             [
              0.5555555555555556,
              "#000016"
             ],
             [
              0.6666666666666666,
              "#000017"
             ],
             [
              0.7777777777777778,
              "#000018"
             ],
             [
              0.8888888888888888,
              "#000019"
             ],
             [
              1,
              "#000020"
             ]
            ],
            "type": "contour"
           }
          ],
          "contourcarpet": [
           {
            "colorscale": [
             [
              0,
              "#000011"
             ],
             [
              0.1111111111111111,
              "#000012"
             ],
             [
              0.2222222222222222,
              "#000013"
             ],
             [
              0.3333333333333333,
              "#000014"
             ],
             [
              0.4444444444444444,
              "#000015"
             ],
             [
              0.5555555555555556,
              "#000016"
             ],
             [
              0.6666666666666666,
              "#000017"
             ],
             [
              0.7777777777777778,
              "#000018"
             ],
             [
              0.8888888888888888,
              "#000019"
             ],
             [
              1,
              "#000020"
             ]
            ],
            "type": "contourcarpet"
           }
          ],
          "heatmap": [
           {
            "colorscale": [
             [
              0,
              "#000011"
             ],
             [
              0.1111111111111111,
              "#000012"
             ],
             [
              0.2222222222222222,
              "#000013"
             ],
             [
              0.3333333333333333,
              "#000014"
             ],
             [
              0.4444444444444444,
              "#000015"
             ],
             [
              0.5555555555555556,
              "#000016"
             ],
             [
              0.6666666666666666,
              "#000017"
             ],
             [
              0.7777777777777778,
              "#000018"
             ],
             [
              0.8888888888888888,
              "#000019"
             ],
             [
              1,
              "#000020"
             ]
            ],
            "type": "heatmap"
           }
          ],
          "histogram2d": [
           {
            "colorscale": [
             [
              0,
              "#000011"
             ],
             [
              0.1111111111111111,
              "#000012"
             ],
             [
              0.2222222222222222,
              "#000013"
             ],
             [
              0.3333333333333333,
              "#000014"
             ],
             [
              0.4444444444444444,
              "#000015"
             ],
             [
              0.5555555555555556,
              "#000016"
             ],
             [
              0.6666666666666666,
              "#000017"
             ],
             [
              0.7777777777777778,
              "#000018"
             ],
             [
              0.8888888888888888,
              "#000019"
             ],
             [
              1,
              "#000020"
             ]
            ],
            "type": "histogram2d"
           }
          ],
          "icicle": [
           {
            "textfont": {
             "color": "white"
            },
            "type": "icicle"
           }
          ],
          "sankey": [
           {
            "textfont": {
             "color": "#000036"
            },
            "type": "sankey"
           }
          ],
          "scatter": [
           {
            "marker": {
             "line": {
              "width": 0
             }
            },
            "type": "scatter"
           }
          ],
          "table": [
           {
            "cells": {
             "fill": {
              "color": "#000038"
             },
             "font": {
              "color": "#000037"
             },
             "line": {
              "color": "#000039"
             }
            },
            "header": {
             "fill": {
              "color": "#000040"
             },
             "font": {
              "color": "#000036"
             },
             "line": {
              "color": "#000039"
             }
            },
            "type": "table"
           }
          ],
          "waterfall": [
           {
            "connector": {
             "line": {
              "color": "#000036",
              "width": 2
             }
            },
            "decreasing": {
             "marker": {
              "color": "#000033"
             }
            },
            "increasing": {
             "marker": {
              "color": "#000032"
             }
            },
            "totals": {
             "marker": {
              "color": "#000034"
             }
            },
            "type": "waterfall"
           }
          ]
         },
         "layout": {
          "coloraxis": {
           "colorscale": [
            [
             0,
             "#000011"
            ],
            [
             0.1111111111111111,
             "#000012"
            ],
            [
             0.2222222222222222,
             "#000013"
            ],
            [
             0.3333333333333333,
             "#000014"
            ],
            [
             0.4444444444444444,
             "#000015"
            ],
            [
             0.5555555555555556,
             "#000016"
            ],
            [
             0.6666666666666666,
             "#000017"
            ],
            [
             0.7777777777777778,
             "#000018"
            ],
            [
             0.8888888888888888,
             "#000019"
            ],
            [
             1,
             "#000020"
            ]
           ]
          },
          "colorscale": {
           "diverging": [
            [
             0,
             "#000021"
            ],
            [
             0.1,
             "#000022"
            ],
            [
             0.2,
             "#000023"
            ],
            [
             0.3,
             "#000024"
            ],
            [
             0.4,
             "#000025"
            ],
            [
             0.5,
             "#000026"
            ],
            [
             0.6,
             "#000027"
            ],
            [
             0.7,
             "#000028"
            ],
            [
             0.8,
             "#000029"
            ],
            [
             0.9,
             "#000030"
            ],
            [
             1,
             "#000031"
            ]
           ],
           "sequential": [
            [
             0,
             "#000011"
            ],
            [
             0.1111111111111111,
             "#000012"
            ],
            [
             0.2222222222222222,
             "#000013"
            ],
            [
             0.3333333333333333,
             "#000014"
            ],
            [
             0.4444444444444444,
             "#000015"
            ],
            [
             0.5555555555555556,
             "#000016"
            ],
            [
             0.6666666666666666,
             "#000017"
            ],
            [
             0.7777777777777778,
             "#000018"
            ],
            [
             0.8888888888888888,
             "#000019"
            ],
            [
             1,
             "#000020"
            ]
           ],
           "sequentialminus": [
            [
             0,
             "#000011"
            ],
            [
             0.1111111111111111,
             "#000012"
            ],
            [
             0.2222222222222222,
             "#000013"
            ],
            [
             0.3333333333333333,
             "#000014"
            ],
            [
             0.4444444444444444,
             "#000015"
            ],
            [
             0.5555555555555556,
             "#000016"
            ],
            [
             0.6666666666666666,
             "#000017"
            ],
            [
             0.7777777777777778,
             "#000018"
            ],
            [
             0.8888888888888888,
             "#000019"
            ],
            [
             1,
             "#000020"
            ]
           ]
          },
          "colorway": [
           "#000001",
           "#000002",
           "#000003",
           "#000004",
           "#000005",
           "#000006",
           "#000007",
           "#000008",
           "#000009",
           "#000010"
          ]
         }
        },
        "title": {
         "text": "Iris"
        },
        "updatemenus": [
         {
          "active": 0,
          "buttons": [
           {
            "args": [
             {
              "visible": [
               true,
               true,
               true
              ]
             },
             {
              "title": "All"
             }
            ],
            "label": "All",
            "method": "update"
           },
           {
            "args": [
             {
              "visible": [
               true,
               false,
               false
              ]
             },
             {
              "title": "setosa"
             }
            ],
            "label": "setosa",
            "method": "update"
           },
           {
            "args": [
             {
              "visible": [
               false,
               true,
               false
              ]
             },
             {
              "title": "virginica"
             }
            ],
            "label": "virginica",
            "method": "update"
           },
           {
            "args": [
             {
              "visible": [
               false,
               false,
               true
              ]
             },
             {
              "title": "versicolor"
             }
            ],
            "label": "versicolor",
            "method": "update"
           }
          ]
         }
        ]
       }
      }
     },
     "metadata": {},
     "output_type": "display_data"
    }
   ],
   "source": [
    "import plotly.graph_objects as go\n",
    "\n",
    "import pandas as pd\n",
    "\n",
    "# Load dataset\n",
    "df = px.data.iris()\n",
    "\n",
    "# Initialize figure\n",
    "fig = go.Figure()\n",
    "\n",
    "# Add Traces\n",
    "\n",
    "fig.add_trace(\n",
    "    go.Scatter(x=list(df[df['species']=='setosa'].sepal_length),\n",
    "               y=list(df[df['species']=='setosa'].sepal_width),\n",
    "               name=\"setosa\",\n",
    "               line=dict(color=\"DarkBlue\"),\n",
    "               mode='markers',\n",
    "               showlegend=True),)\n",
    "\n",
    "fig.add_trace(\n",
    "    go.Scatter(x=list(df[df['species']=='virginica'].sepal_length),\n",
    "               y=list(df[df['species']=='virginica'].sepal_width),\n",
    "               name=\"virginica\",\n",
    "               line=dict(color=\"Green\"),\n",
    "               mode='markers',\n",
    "               showlegend=True))\n",
    "\n",
    "fig.add_trace(\n",
    "    go.Scatter(x=list(df[df['species']=='versicolor'].sepal_length),\n",
    "               y=list(df[df['species']=='versicolor'].sepal_width),\n",
    "               name=\"versicolor\",\n",
    "               line=dict(color=\"Crimson\"),\n",
    "               mode='markers',\n",
    "               showlegend=True))\n",
    "\n",
    "\n",
    "fig.update_layout(\n",
    "    updatemenus=[\n",
    "        dict(\n",
    "            active=0,\n",
    "            buttons=list([\n",
    "                dict(label=\"All\",\n",
    "                     method=\"update\",\n",
    "                     args=[{\"visible\": [True, True, True]},\n",
    "                           {\"title\": \"All\",\n",
    "                            #\"annotations\": []\n",
    "                            }]),\n",
    "                dict(label=\"setosa\",\n",
    "                     method=\"update\",\n",
    "                     args=[{\"visible\": [True, False, False]},\n",
    "                           {\"title\": \"setosa\",\n",
    "                            #\"annotations\": setosa_annotations\n",
    "                            }])\n",
    "                            ,\n",
    "                dict(label=\"virginica\",\n",
    "                     method=\"update\",\n",
    "                     args=[{\"visible\": [False, True, False]},\n",
    "                           {\"title\": \"virginica\",\n",
    "                            #\"annotations\": low_annotations\n",
    "                            }]),\n",
    "                dict(label=\"versicolor\",\n",
    "                     method=\"update\",\n",
    "                     args=[{\"visible\": [False, False,True]},\n",
    "                           {\"title\": \"versicolor\",\n",
    "                            #\"annotations\": high_annotations + low_annotations\n",
    "                            }]),\n",
    "            ]),\n",
    "        )\n",
    "    ])\n",
    "\n",
    "# Set title\n",
    "fig.update_layout(title_text=\"Iris\")\n",
    "\n",
    "fig.show()"
   ]
  }
 ],
 "metadata": {
  "kernelspec": {
   "display_name": "study",
   "language": "python",
   "name": "python3"
  },
  "language_info": {
   "codemirror_mode": {
    "name": "ipython",
    "version": 3
   },
   "file_extension": ".py",
   "mimetype": "text/x-python",
   "name": "python",
   "nbconvert_exporter": "python",
   "pygments_lexer": "ipython3",
   "version": "3.11.13"
  }
 },
 "nbformat": 4,
 "nbformat_minor": 5
}
