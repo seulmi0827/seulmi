{
 "cells": [
  {
   "cell_type": "code",
   "execution_count": 1,
   "metadata": {},
   "outputs": [
    {
     "data": {
      "text/plain": [
       "True"
      ]
     },
     "execution_count": 1,
     "metadata": {},
     "output_type": "execute_result"
    }
   ],
   "source": [
    "from dotenv import load_dotenv\n",
    "# OPEN AI API 키 설정\n",
    "load_dotenv()"
   ]
  },
  {
   "cell_type": "markdown",
   "metadata": {},
   "source": [
    "### 1. 실시간 뉴스 요약 챗봇\n",
    "\n",
    "- 사용자가 입력한 키워드(예: \"삼성전자\", \"AI\", \"테슬라\")에 대한 최신 뉴스를 검색하고, 그 결과를 한글로 요약해서 보여주는 챗봇 제작"
   ]
  },
  {
   "cell_type": "markdown",
   "metadata": {},
   "source": [
    "# 검색api로 뉴스 불러오기 -> 프롬프트 설정(요약,출력 방식)"
   ]
  },
  {
   "cell_type": "code",
   "execution_count": null,
   "metadata": {},
   "outputs": [],
   "source": [
    "from langchain_openai import ChatOpenAI\n",
    "from langchain_core.prompts import ChatPromptTemplate\n",
    "from langchain_core.runnables import RunnableLambda \n",
    "from langchain_community.utilities import GoogleSerperAPIWrapper\n",
    "from langchain_core.output_parsers import StrOutputParser\n",
    "\n",
    "search = GoogleSerperAPIWrapper(type= \"news\",tbs=\"qdr:h\")\n",
    "\n",
    "llm = ChatOpenAI(model=\"gpt-4.1-nano\")\n",
    "\n",
    "prompt = ChatPromptTemplate.from_template(\n",
    "    \"다음 검색 결과를 한글로 300자로 요약해줘 그 근거가 되는 검색결과도 같이 반환해:\\n{search_results}\"\n",
    ")\n",
    "\n",
    "chain = {'search_results': RunnableLambda(search.run)} | prompt | llm | StrOutputParser()\n"
   ]
  },
  {
   "cell_type": "code",
   "execution_count": 28,
   "metadata": {},
   "outputs": [
    {
     "name": "stdout",
     "output_type": "stream",
     "text": [
      "{'searchParameters': {'q': '삼성전자', 'gl': 'us', 'hl': 'en', 'type': 'search', 'num': 10, 'tbs': 'qdr:h', 'engine': 'google'}, 'organic': [{'title': '삼성전자 (005930) - 인베스팅', 'link': 'https://kr.investing.com/equities/samsung-electronics-co-ltd', 'snippet': '삼성전자의 주가, 005930 주식, 차트, 기술적 분석, 실적 자료 등 69100로 거래를 마감한 삼성전자 시세에 대한 자세한 정보를 확인해 보세요. 오늘의 시세뿐만 아니라 ...', 'date': '2 minutes ago', 'sitelinks': [{'title': '차트', 'link': 'https://kr.investing.com/equities/samsung-electronics-co-ltd-chart'}, {'title': '배당', 'link': 'https://kr.investing.com/equities/samsung-electronics-co-ltd-dividends'}, {'title': '재무 정보 요약', 'link': 'https://kr.investing.com/equities/samsung-electronics-co-ltd-financial-summary'}, {'title': '기술적 분석', 'link': 'https://kr.investing.com/equities/samsung-electronics-co-ltd-technical'}], 'position': 1}, {'title': '직무추천서비스 - 삼성전자 DS부문 채용', 'link': 'https://www.samsung-dsrecruit.com/recruits/job_description/index.php', 'snippet': '삼성전자 DS부문의 직무추천서비스 페이지로, 지원자의 전공과 흥미도를 분석하여 적합한 사업부 및 직무를 추천드립니다.', 'date': '25 minutes ago', 'position': 2}, {'title': '삼성전자, S25·폴더블 판매 호조…3분기 동력 확보 - 아시아타임즈', 'link': 'https://www.asiatime.co.kr/article/20250806500251', 'snippet': '삼성전자는 스마트폰 출하량 기준 2분기 1위를 유지했으며 매출은 4%, 출하량은 8% 늘어난 것으로 나타났다. 카운터포인트는 하반기에 프리미엄화 추세가 지속될 것으로 ...', 'date': '55 minutes ago', 'position': 3}, {'title': '100대 기업 주주환원, 2년 만에 35% 껑충…총액 1위 삼성전자', 'link': 'https://www.koreadaily.com/article/20250805231644391', 'snippet': '시총 대비 주주환원율 기준으론 KT&G, 총액 기준으론 삼성전자가 1위를 차지했다. ... 주주환원 총액 기준으론 삼성전자가 9조8108억원으로 가장 높았다. 이외에 ...', 'date': '14 minutes ago', 'position': 4}, {'title': \"삼성전자, '오디세이-폴드7'서 즐기는 통합 게이밍 경험 전시\", 'link': 'https://www.inews24.com/view/1873610', 'snippet': \"[아이뉴스24 박지은 기자] 삼성전자는 오는 20~24일(현지시간) 독일 쾰른에서 열리는 게임 전시회 '게임스컴 2025'에 참가해 모니터·스마트폰 등을 전시한다. 게임스컴은 ...\", 'date': '44 minutes ago', 'position': 5}, {'title': \"삼성전자, '오디세이-폴드7'서 즐기는 통합 게이밍 경험 전시\", 'link': 'https://news.nate.com/view/20250806n22492', 'snippet': \"삼성전자는 무(無) 안경 3차원(3D) 게이밍 모니터 '오디세이 3D', '갤럭시Z 폴드7'로 최신 게임을 즐기는 전시존을 꾸밀 계획이다. 오는 22~23일(현지시간) 쾰른 중심부 ' ...\", 'date': '43 minutes ago', 'position': 6}, {'title': '삼성전자, 게임스컴 2025 참가⋯ 통합 게이밍 경험 제공 - 브릿지경제', 'link': 'https://www.viva100.com/article/20250806500166', 'snippet': \"삼성전자가 오는 20일부터 24일(현지시간)까지 독일 쾰른에서 열리는 '게임스컴 2025(Gamescom 2025)'에 참가한다고 6일 밝혔다. 게임스컴은 약 34만명이 방문하는1400 ...\", 'date': '46 minutes ago', 'position': 7}, {'title': \"'관세태풍' 앞둔 반도체…삼성·SK, 돌파구 찾기 '총력' - 매일일보\", 'link': 'https://www.m-i.kr/news/articleView.html?idxno=1268283', 'snippet': '삼성전자는 현재 미국 텍사스주 테일러시에 파운드리 공장을 건설 중이며 오는 2026년 말~2027년 양산을 목표로 하고 있다. SK하이닉스도 인디애나주 웨스트라피엣에 ...', 'date': '26 minutes ago', 'position': 8}], 'topStories': [{'title': '대만도 관세 직격탄…삼성 파운드리, 반사이익 ‘주목’', 'link': 'https://www.newstomato.com/ReadNews.aspx?no=1270863', 'date': '6 minutes ago', 'source': '뉴스토마토'}, {'title': \"삼성전자, '오디세이-폴드7'서 즐기는 통합 게이밍 경험 전시\", 'link': 'https://m.news.nate.com/view/20250806n22492?mid=m05&list=recent&cpcd=', 'date': '43 minutes ago', 'source': '네이트'}, {'title': '100대 기업 주주환원, 2년 만에 35% 껑충…총액 1위 삼성전자', 'link': 'https://www.joongang.co.kr/article/25357158', 'date': '14 minutes ago', 'source': '중앙일보'}], 'relatedSearches': [{'query': '삼성전자 1주 가격'}, {'query': '삼성전자 주가 전망'}, {'query': '삼성전자 주가 폭락'}, {'query': '삼성전자우주가'}, {'query': '삼성전자 가격'}, {'query': '삼성전자 주가 전망 2025'}, {'query': '삼성전자 1주 배당금'}, {'query': '삼성전자 우선주 주가'}, {'query': '삼성전자 10 년후 주가'}, {'query': '삼성전자 주가 폭락 이유'}], 'credits': 1}\n",
      "삼성전자는 69100원에 거래를 마감하며 시세가 안정세를 보이고 있습니다. 2분기 스마트폰 출하량 1위를 유지하며 매출(4%)와 출하량(8%)이 증가하였고, 주주환원율과 총액도 각각 1위와 9조8108억 원으로 높아지고 있습니다. 또한, 독일 쾰른에서 열리는 '게임스컴 2025'에 참가해 최신 게이밍 제품을 선보이며, 텍사스 파운드리 공장 건설도 추진 중입니다. 이러한 실적과 정보들을 바탕으로 삼성전자는 글로벌 시장에서 강세를 유지하고 있습니다.  \n",
      "근거 검색결과:  \n",
      "\"삼성전자의 주가, 005930 주식, 차트, 기술적 분석, 실적 자료 등 69100로 거래를 마감한 삼성전자 시세에 대한 자세한 정보를 확인해 보세요… 매출은 4%, 출하량은 8% 늘어난 것으로 나타났다… 삼성전자는 무(無) 안경 3D 게이밍 모니터 '오디세이 3D', '갤럭시Z 폴드7'로 최신 게임을 즐기는 전시존을 꾸밀 계획이다… 텍사스주 파운드리 공장 건설 중\"\n"
     ]
    }
   ],
   "source": [
    "user_input = \"삼성전자\"\n",
    "result = chain.invoke(user_input)\n",
    "print(search.results(user_input))\n",
    "print(result)"
   ]
  },
  {
   "cell_type": "markdown",
   "metadata": {},
   "source": [
    "### 2. 오늘의 환율/주가/날씨 안내 서비스\n",
    "\n",
    "- \"오늘 원/달러 환율 알려줘\", \"오늘 삼성전자 주가 알려줘\", \"서울 날씨 알려줘\" 등 실시간 데이터를 검색해서 답변하는 서비스 구축"
   ]
  },
  {
   "cell_type": "markdown",
   "metadata": {},
   "source": [
    "# 환율 / 주가 / 날씨 셋 중 하나로 분류 하는 llm(꼭 필요?) -> 각 분야마다 답변하는 llm & 프롬프트 설정"
   ]
  },
  {
   "cell_type": "code",
   "execution_count": 89,
   "metadata": {},
   "outputs": [
    {
     "name": "stdout",
     "output_type": "stream",
     "text": [
      "{'searchParameters': {'q': '오늘 엔화 환율 알려줘', 'gl': 'us', 'hl': 'en', 'type': 'search', 'num': 10, 'tbs': 'qdr:3h', 'engine': 'google'}, 'organic': [{'title': 'JPY KRW 오늘 | 엔 원 환율 - Investing.com - 인베스팅', 'link': 'https://kr.investing.com/currencies/jpy-krw', 'snippet': 'JPY/KRW - 일본 엔 원 ; 전일 종가. 9.3968 ; 매수: 9.4156 ; 금일 변동: 9.3897 ; 금일 시가. 9.3968 ; 매도: 9.4202.', 'sitelinks': [{'title': '환율 변환기', 'link': 'https://kr.investing.com/currencies/jpy-krw-converter'}, {'title': '차트', 'link': 'https://kr.investing.com/currencies/jpy-krw-chart'}, {'title': '포럼', 'link': 'https://kr.investing.com/currencies/jpy-krw-commentary'}, {'title': '기술 분석', 'link': 'https://kr.investing.com/currencies/jpy-krw-technical'}], 'position': 1}, {'title': '일본 엔 → 대한민국 원 환율. JPY/KRW 환전 - Wise', 'link': 'https://wise.com/kr/currency-converter/jpy-to-krw-rate', 'snippet': 'Wise 환율계산기로 JPY → KRW 변환을 하세요. 이전 환율 차트 또는 실시간 일본 엔 / 대한민국 원 환율을 분석하고 무료 환율 알림을 이메일로 직접 받아볼 수 있습니다.', 'sitelinks': [{'title': '10000 JPY', 'link': 'https://wise.com/kr/currency-converter/jpy-to-krw-rate?amount=10000'}, {'title': '100 JPY', 'link': 'https://wise.com/kr/currency-converter/jpy-to-krw-rate?amount=100'}, {'title': '1000 JPY', 'link': 'https://wise.com/kr/currency-converter/jpy-to-krw-rate?amount=1000'}, {'title': '10000 KRW', 'link': 'https://wise.com/kr/currency-converter/krw-to-jpy-rate?amount=10000'}], 'position': 2}, {'title': '환율[16] - 씨티은행', 'link': 'https://www.citibank.co.kr/FxdExrt0100.act', 'snippet': '오늘의 환율 (조회시간 : 2025-08-06 16:39:18) ; 중국 (CNY). 193.53. 하락-0.28 ; 유럽 (EUR). 1,610.66. 상승0.47 ; 일본 (JPY). 942.72. 하락-2.35.', 'sitelinks': [{'title': '환율조회', 'link': 'https://www.citibank.co.kr/FxdExrtFxrt0100.act'}, {'title': '월드링크 해외송금 환율조회', 'link': 'https://www.citibank.co.kr/FxdExrtWlfx0100.act'}, {'title': '글로벌 계좌이체 환율조회', 'link': 'https://www.citibank.co.kr/FxdExrtGlbl0100.act'}], 'position': 3}, {'title': '일별환율조회 - 우리은행', 'link': 'https://spib.wooribank.com/pib/Dream?withyou=CMCOM0184', 'snippet': '일별환율 조회결과. 통화표시, 통화명, 송금, 현찰, 매매 기준율, 기준환율, 대미 환산율. 보내실때, 받으실때, 사실때(스프레드율), 파실때(스프레드율) ...', 'position': 4}, {'title': '엔화 환율 - 네이버 금융 - NAVER', 'link': 'https://finance.naver.com/marketindex/exchangeDetail.nhn?marketindexCd=FX_JPYKRW', 'snippet': 'No information is available for this page. · Learn why', 'sitelinks': [{'title': 'Learn why', 'link': 'https://support.google.com/webmasters/answer/7489871?hl=en'}], 'position': 5}, {'title': '엔 환율 전망. 일본 엔 오늘과 2025 년, 2026 년 예측', 'link': 'https://wonforecast.com/%EC%97%94-%ED%99%98%EC%9C%A8-%EC%A0%84%EB%A7%9D', 'snippet': '현재 엔에서 원으로의 환율은 1엔당 9.43원입니다. 날마다의 변화는 9.41 원에서 9.41원 입니다. 전날: 9.39원, 변화 0,43%. 더 자세한 정보는 밑에 있습니다.', 'position': 6}, {'title': '일본 엔(JPY) 으로 대한민국 원(KRW) 환율 오늘', 'link': 'https://kr.fxexchangerate.com/jpy/krw.html', 'snippet': 'Friday 01/08/2025, 1 JPY = 9.4236 KRW ; Thursday 31/07/2025, 1 JPY = 9.2368 KRW ; Wednesday 30/07/2025, 1 JPY = 9.3349 KRW ; Tuesday 29/07/2025, 1 JPY = 9.3613 KRW.', 'position': 7}, {'title': '주식 / 환율 오늘 코스피 알려줘 - Kakao i', 'link': 'https://kakao.ai/service/info/stock', 'snippet': '환율 정보: 미국 환율: 유로 환율 얼마야? 오늘 엔화 환율 알려줘. 환율 계산: 달러를 호주 돈으로 하면 얼마야? 125달러가 한국 돈으로 얼마야? 100만원 태국 돈으로 얼마 ...', 'position': 8}, {'title': '기간별평균환율조회 - 우리은행', 'link': 'https://spot.wooribank.com/pot/Dream?withyou=FXXRT0016', 'snippet': 'Missing: 오늘 알려줘', 'position': 9}, {'title': 'KRW JPY 오늘 | 원 엔 환율 - Investing.com - 인베스팅', 'link': 'https://kr.investing.com/currencies/krw-jpy', 'snippet': '원/달러 환율 1480원, 엔화 1020원 돌파. 미국 트럼프 발 글로벌 무역 전쟁 우려에 외환시장이 발작했다. 원/달러 환율은 1500원선에 다가섰고 엔화는 ... MoneyS. 2025 ...', 'position': 10}], 'relatedSearches': [{'query': '달러환율'}, {'query': '오늘환율'}, {'query': '엔화 환율계산기'}, {'query': '엔화 환율 전망'}, {'query': '100엔 환율'}, {'query': '엔 원 환율'}, {'query': '달러 엔화 환율'}, {'query': '엔화 환율조회'}, {'query': '2025 엔화 환율 전망'}, {'query': '오늘 달러 환율'}], 'credits': 1}\n",
      "오늘 엔화 환율은 1엔당 9.43원입니다.\n"
     ]
    }
   ],
   "source": [
    "from langchain_openai import ChatOpenAI\n",
    "from langchain_core.prompts import ChatPromptTemplate\n",
    "from langchain_core.runnables import RunnableLambda \n",
    "from langchain_community.utilities import GoogleSerperAPIWrapper\n",
    "from langchain_core.output_parsers import StrOutputParser\n",
    "\n",
    "search = GoogleSerperAPIWrapper(type=\"search\",tbs=\"qdr:3h\")\n",
    "\n",
    "llm = ChatOpenAI(model=\"gpt-4o\")\n",
    "\n",
    "prompt = ChatPromptTemplate.from_template(\"다음 검색 결과를 이용해서 사용자의 질문에 대해 한줄로 답변해.\\\n",
    "                                          검색 결과에 명시적으로 사용자의 질문과 관련된 언급이 없다면 해당 정보를 사용하지마:\\\n",
    "                                            검색결과 : {search_results}, 사용자 질문: {user_input}\")\n",
    "\n",
    "user_input = '오늘 엔화 환율 알려줘'\n",
    "\n",
    "# 검색 결과를 'user_input' 기반으로 생성\n",
    "search_lambda = RunnableLambda(lambda x: search.run(x[\"user_input\"]))\n",
    "\n",
    "# 체인 구성\n",
    "chain = {\"search_results\": search_lambda, \"user_input\": lambda x: x[\"user_input\"]} | prompt | llm | StrOutputParser()\n",
    "\n",
    "result = chain.invoke({\"user_input\": user_input})\n",
    "\n",
    "print(search.results(user_input))\n",
    "print(result)"
   ]
  },
  {
   "cell_type": "code",
   "execution_count": null,
   "metadata": {},
   "outputs": [],
   "source": []
  },
  {
   "cell_type": "markdown",
   "metadata": {},
   "source": [
    "### 3. 인물/연예/스포츠 최신 이슈 Q&A\n",
    "\n",
    "- \"2024 파리 올림픽에서 한국이 딴 메달 수는?\", \"최근 노벨상 수상자는?\" 등 최신 이슈를 검색해서 답변"
   ]
  },
  {
   "cell_type": "markdown",
   "metadata": {},
   "source": [
    "# 2와 동일"
   ]
  },
  {
   "cell_type": "code",
   "execution_count": null,
   "metadata": {},
   "outputs": [],
   "source": []
  },
  {
   "cell_type": "markdown",
   "metadata": {},
   "source": [
    "### 4. 신제품/기술 동향 리포트 생성기\n",
    "\n",
    "- \"2024년 애플 신제품 소식 요약\", \"최근 출시된 전기차 비교\" 등 최신 기술/제품 동향을 검색하고 요약"
   ]
  },
  {
   "cell_type": "markdown",
   "metadata": {},
   "source": [
    "# 2와 동일"
   ]
  },
  {
   "cell_type": "code",
   "execution_count": null,
   "metadata": {},
   "outputs": [],
   "source": []
  },
  {
   "cell_type": "markdown",
   "metadata": {},
   "source": [
    "### 5. 실시간 이미지/장소/뉴스 검색 챗봇\n",
    "\n",
    "- \"강아지 사진 보여줘\", \"서울 강남 맛집 추천해줘\", \"테슬라 관련 최신 뉴스 알려줘\" 등 다양한 유형의 검색 결과를 받아서 보여주기"
   ]
  },
  {
   "cell_type": "markdown",
   "metadata": {},
   "source": [
    "# 사용자의 질문에 따라서 type을 결정 -> 검색"
   ]
  },
  {
   "cell_type": "code",
   "execution_count": 58,
   "metadata": {},
   "outputs": [
    {
     "name": "stdout",
     "output_type": "stream",
     "text": [
      "news\n",
      "광주시 광산구가 올해도 '어르신의 안부를 묻는 우유배달' 사업을 지속합니다. 이 사업은 작년에 시작되었으며, 3개 권역의 84가구를 대상으로 진행되고 있습니다. 이를 통해 어르신들의 안부를 확인하고 이들의 복지를 지원하고자 하는 목적을 가지고 있습니다.\n",
      "{'searchParameters': {'q': ' 뉴스 알려줘', 'gl': 'us', 'hl': 'en', 'type': 'news', 'num': 10, 'page': 1, 'tbs': 'qdr:h', 'engine': 'google'}, 'news': [{'title': '광주시 광산구, 우유배달로 홀몸 어르신 안부 챙긴다~고독사 예방 앞장', 'link': 'https://www.wikitree.co.kr/articles/1071260', 'snippet': \"[위키트리 광주전남취재본부 노해섭 기자]광주시 광산구(구청장 박병규)가 올해도 '어르신의 안부를 묻는 우유배달' 사업을 이어간다.지난해에 이어 3개 권역 84가구...\", 'date': '49 minutes ago', 'source': '위키트리', 'position': 1}], 'credits': 1}\n"
     ]
    }
   ],
   "source": [
    "from openai import OpenAI\n",
    "from dotenv import load_dotenv\n",
    "import os\n",
    "import json\n",
    "from langchain_openai import ChatOpenAI\n",
    "from langchain_core.prompts import ChatPromptTemplate\n",
    "from langchain_core.runnables import RunnableLambda \n",
    "from langchain_community.utilities import GoogleSerperAPIWrapper\n",
    "from langchain_core.output_parsers import StrOutputParser\n",
    "import requests\n",
    "\n",
    "\n",
    "# OPEN AI API 키 설정\n",
    "load_dotenv()\n",
    "\n",
    "\n",
    "MY_API_KEY = os.environ['OPENAI_API_KEY']\n",
    "\n",
    "client = OpenAI(api_key=MY_API_KEY)\n",
    "\n",
    "def classify_type_gpt(user_query):\n",
    "        user_prompt = f'''\n",
    "        당신은 사용자의 질문을 4종류로 분류하는 판별가 입니다. \n",
    "        분류는 다음과 같습니다.\n",
    "        - search, news, images, places\n",
    "        1개의 질문은 1개의 종류만 가능합니다.\n",
    "        사용자의 질문 : {user_query}\n",
    "        \n",
    "        출력은 반드시 json형태로 마크다운 없이 반환하세요.\n",
    "        'type' : 분류\n",
    "        '''\n",
    "    \n",
    "        response = client.chat.completions.create(model = \"gpt-4o\",\n",
    "                                          messages = [\n",
    "                                              {'role': 'user', 'content': user_prompt},\n",
    "                                              ],\n",
    "                                          max_tokens=150,\n",
    "                                          temperature=0\n",
    "                                         )\n",
    "        return json.loads(response.choices[0].message.content)\n",
    "\n",
    "#######################################\n",
    "user_input = ' 뉴스 알려줘'\n",
    "#######################################\n",
    "\n",
    "classified_type = classify_type_gpt(user_input)['type']\n",
    "print(classified_type)\n",
    "\n",
    "\n",
    "search = GoogleSerperAPIWrapper(type=classified_type, tbs=\"qdr:h\")\n",
    "\n",
    "llm = ChatOpenAI(model=\"gpt-4o\")\n",
    "\n",
    "if classified_type == \"images\":\n",
    "    results = search.results(user_input)\n",
    "    image_url = results['images'][0]['imageUrl']\n",
    "    r = requests.get(image_url,headers = { 'user-agent': 'Mozilla 5.0'})\n",
    "    with open(f'{user_input}.jpg','wb') as f:\n",
    "        f.write(r.content)\n",
    "else:\n",
    "    if classified_type == \"news\":\n",
    "        type_prompt = \"다음 검색 결과를 바탕으로 뉴스를 요약해줘 \\n 검색결과:{search_results}\"\n",
    "    elif classified_type == \"places\":\n",
    "        type_prompt = \"다음 검색 결과를 바탕으로 장소를 추천해줘\\n 검색결과:{search_results}\"\n",
    "    elif classified_type == \"search\":\n",
    "        type_prompt = \"다음 검색 결과를 요약해줘\\n 검색결과:{search_results}\"\n",
    "\n",
    "    prompt = ChatPromptTemplate.from_template(type_prompt)\n",
    "    chain = {'search_results': RunnableLambda(search.run)} | prompt | llm | StrOutputParser()\n",
    "    result = chain.invoke(user_input)\n",
    "    print(result)\n",
    "    print(search.results(user_input))\n"
   ]
  },
  {
   "cell_type": "markdown",
   "metadata": {},
   "source": [
    "### 6. 실시간 이슈 기반 토론/퀴즈 챗봇\n",
    "\n",
    "- \"오늘의 주요 국제 뉴스로 퀴즈 내줘\", \"최근 이슈로 토론 주제 추천해줘\" 등 실시간 이슈를 활용한 챗봇"
   ]
  },
  {
   "cell_type": "markdown",
   "metadata": {},
   "source": [
    "# 실시간 이슈로 퀴즈,토론 주제 만들기 -> 검색된 이슈 기반으로 채점"
   ]
  },
  {
   "cell_type": "code",
   "execution_count": 92,
   "metadata": {},
   "outputs": [
    {
     "name": "stdout",
     "output_type": "stream",
     "text": [
      "최근 이슈\n",
      "quiz\n",
      "{'quiz': '여성 듀오 애즈원의 이민(본명 이민영)의 사망 소식은 어느 소속사를 통해 발표되었는가?', 'choices': ['티엔엔터테인먼트', '브랜뉴뮤직', 'SM엔터테인먼트', 'YG엔터테인먼트'], 'correct_answer': 2}\n",
      "{'searchParameters': {'q': '최근 이슈', 'gl': 'us', 'hl': 'en', 'type': 'news', 'num': 10, 'page': 1, 'tbs': 'qdr:d', 'engine': 'google'}, 'news': [{'title': \"'자택서 사망' 故 이민 누구?..최근 박보검과 무대한 애즈원 멤버 [스타이슈]\", 'link': 'https://www.starnewskorea.com/star/2025/08/06/2025080617031881323', 'snippet': '여성 듀오 애즈원의 이민(본명 이민영)이 갑작스럽게 세상을 떠났다. 6일 소속사 브랜뉴뮤직에 따르면 이민은 지난 5일 오후 자택에서 숨진 채 발견됐다.', 'date': '17 minutes ago', 'source': '스타뉴스', 'position': 1}, {'title': \"[이슈] 하루 만에 SNS 팔로워 10만…식지 않는 '모솔연애'\", 'link': 'https://news.nate.com/view/20250806n30768', 'snippet': \"한눈에 보는 오늘 : 연예가 화제 - 뉴스 : '모태솔로지만 연애는 하고 싶어' 모태솔로들이 글로벌 셀럽으로 거듭났다. 최근 막을 내린 넷플릭스 예능 '모태솔로지만...\", 'date': '12 minutes ago', 'source': '네이트', 'position': 2}, {'title': '13일 ‘AI 시대 음원 저작권 보호 법적 대응과 과제’', 'link': 'https://www.munhaknews.com/news/articleView.html?idxno=81379', 'snippet': '[문학뉴스=남미리 기자] 대한민국 국제저작권법학회(회장 김경숙, 이하 ALAI Korea)는 「AI 시대의 음원 저작권 보호를 위한 법적 대응과 과제」라는 주제로 학술...', 'date': '6 hours ago', 'source': '문학뉴스', 'position': 3}, {'title': '8월 6일 주목할 산업주 : 더존비즈온·에코프로비엠·LG유플러스·SK바이오팜 [헬로스톡]', 'link': 'https://www.hellot.net/news/article.html?no=104026', 'snippet': '산업 전문 미디어인 헬로티는 자동화기술, 전자기술, AI, IT, ICT 등 다양한 산업 정보를 제공합니다. 최신 동향으로 트렌드를 파악해보세요.', 'date': '9 minutes ago', 'source': '헬로티', 'position': 4}, {'title': 'AI 시대, K컬처 300조 달성 위한 음원 저작권 보호 방안은?', 'link': 'https://www.sisaweek.com/news/articleView.html?idxno=227948', 'snippet': '시사위크=이수민 기자 K팝의 전 세계적 인기에 힘입어 우리의 음원 저작권 시장은 가파르게 성장하고 있다. 또한 AI 시대의 도래와 함께, K뮤직 황금기의 지속을...', 'date': '3 hours ago', 'source': '시사위크', 'position': 5}, {'title': '홍진경 측 “최근 협의 이혼”…결혼 22년만', 'link': 'https://m.news.zum.com/articles/100052500/%ED%99%8D%EC%A7%84%EA%B2%BD-%EC%B8%A1-%EC%B5%9C%EA%B7%BC-%ED%98%91%EC%9D%98-%EC%9D%B4%ED%98%BC-%EA%B2%B0%ED%98%BC-22%EB%85%84%EB%A7%8C?', 'snippet': '17일 오전 서울 스탠포드호텔에서 MBC에브리원·MBN \\'다 컸는데 안 나가요\\' 제작발표회가 열렸다. 6일 소속사 티엔엔터테인먼트 측은 \"남편 A씨와 최근 이혼한 것이...', 'date': '6 hours ago', 'source': 'ZUM 뉴스', 'position': 6}, {'title': \"'원하고 원망하죠' 애즈원 이민, 자택서 사망…'최근 컴백했는데 믿어지지 않아'\", 'link': 'https://www.sedaily.com/NewsView/2GWIRJ1VMX?mobile', 'snippet': \"사회 > 사회일반 뉴스: 2000년대 여성듀오 '애즈원'으로 큰 인기를 얻었던 가수 이민(이민영·46)이 사망했다. 6일 애즈원 소속사 브랜...\", 'date': '3 hours ago', 'source': '서울경제', 'position': 7}, {'title': '\"김건희 비화폰 최근까지 사용\"…尹·이종섭 기록도 분석 / 연합뉴스TV (YonhapnewsTV)', 'link': 'https://www.msn.com/ko-kr/news/other/%EA%B9%80%EA%B1%B4%ED%9D%AC-%EB%B9%84%ED%99%94%ED%8F%B0-%EC%B5%9C%EA%B7%BC%EA%B9%8C%EC%A7%80-%EC%82%AC%EC%9A%A9-%E5%B0%B9-%EC%9D%B4%EC%A2%85%EC%84%AD-%EA%B8%B0%EB%A1%9D%EB%8F%84-%EB%B6%84%EC%84%9D-%EC%97%B0%ED%95%A9%EB%89%B4%EC%8A%A4tv-yonhapnewstv/vi-AA1JWJkm', 'snippet': '[앵커]순직해병 특검도 김건희 씨를 겨냥한 수사에 속도를 내고 있습니다.초기화 상태인 김 씨의 비화폰 내용 복구 작업에 들어갔는데요.윤석열 전 대통령과 이종섭 전...', 'date': '17 hours ago', 'source': 'MSN', 'position': 8}, {'title': '美국방차관 \"韓, 대북방어 주도적 역할·국방지출의 롤모델될것\"', 'link': 'https://www.yna.co.kr/view/AKR20250805171300071', 'snippet': \"(워싱턴=연합뉴스) 조준형 특파원 = 미국 도널드 트럼프 행정부에서 전세계 동맹관계 변화 추진의 '키맨'으로 부상한 엘브리지 콜비 미 국방부 정책차관이 최근 대북...\", 'date': '18 hours ago', 'source': '연합뉴스', 'position': 9}, {'title': '이제 블랙워터이슈에서 커피 이론 관련 최신 연구 내용들도 주기적으로 정리해서 올려드릴건데', 'link': 'https://bwissue.com/bttr/2547970', 'snippet': '이제 블랙워터이슈에서 커피 이론 관련 최신 연구 내용들도 주기적으로 정리해서 올려드릴건데, 흥미가지실 분 계실까요? ^^', 'date': '5 hours ago', 'source': '블랙워터이슈', 'position': 10}], 'credits': 1}\n",
      "정답입니다\n"
     ]
    }
   ],
   "source": [
    "from openai import OpenAI\n",
    "from dotenv import load_dotenv\n",
    "import os\n",
    "import json\n",
    "from langchain_openai import ChatOpenAI\n",
    "from langchain_core.prompts import ChatPromptTemplate\n",
    "from langchain_core.runnables import RunnableLambda \n",
    "from langchain_community.utilities import GoogleSerperAPIWrapper\n",
    "from langchain_core.output_parsers import JsonOutputParser\n",
    "import requests\n",
    "\n",
    "\n",
    "# OPEN AI API 키 설정\n",
    "load_dotenv()\n",
    "\n",
    "\n",
    "MY_API_KEY = os.environ['OPENAI_API_KEY']\n",
    "\n",
    "client = OpenAI(api_key=MY_API_KEY)\n",
    "\n",
    "def classify_type_gpt(user_query):\n",
    "        user_prompt = f'''\n",
    "        당신은 사용자의 질문을 정제,분류하는 판별가 입니다. \n",
    "        분류는 다음과 같습니다.\n",
    "        type : quiz, discussion\n",
    "        1개의 질문은 1개의 종류만 가능합니다.\n",
    "        사용자의 질문을 검색 엔진에 넣기 적합한 형태로 가공하세요. 가공된 단어는 반드시 사용자의 질문 중 일부여야합니다. '퀴즈','토론' 단어는 제외하세요\n",
    "\n",
    "        사용자의 질문 : {user_query}\n",
    "        \n",
    "        출력은 반드시 json형태로 마크다운 없이 반환하세요.\n",
    "        'type' : 분류\n",
    "        'revised_keyword' : 가공된 단어\n",
    "        '''\n",
    "    \n",
    "        response = client.chat.completions.create(model = \"gpt-4o\",\n",
    "                                          messages = [\n",
    "                                              {'role': 'user', 'content': user_prompt},\n",
    "                                              ],\n",
    "                                          max_tokens=150,\n",
    "                                          temperature=0\n",
    "                                         )\n",
    "        return json.loads(response.choices[0].message.content)\n",
    "\n",
    "#######################################\n",
    "user_input = '최근 이슈로 퀴즈 추천해줘'\n",
    "user_input_revised = classify_type_gpt(user_input)['revised_keyword']\n",
    "#######################################\n",
    "print(user_input_revised)\n",
    "\n",
    "classified_type = classify_type_gpt(user_input)['type']\n",
    "print(classified_type)\n",
    "\n",
    "search = GoogleSerperAPIWrapper(type='news', tbs=\"qdr:d\")\n",
    "\n",
    "llm = ChatOpenAI(model=\"gpt-4o\")\n",
    "\n",
    "if classified_type == \"quiz\":\n",
    "    type_prompt = \"다음 검색 결과로 퀴즈 1개를 4지선다형으로 만들어줘.\\\n",
    "                    해당 퀴즈에 대한 정답을 생성해.\\\n",
    "                    검색 결과가 없으면 다른 키워드를 요청해. \\\n",
    "                    검색 결과 외의 임의의 퀴즈는 반환하지마 \\\n",
    "                    검색결과:{search_results}\\\n",
    "                    출력은 반드시 json형태로 마크다운 없이 반환해.\\\n",
    "                    'quiz' : 퀴즈\\\n",
    "                    'choices': 보기\\\n",
    "                    'correct_answer' : 정답 숫자\"\n",
    "                    \n",
    "elif classified_type == \"discussion\":\n",
    "    type_prompt = \"다음 검색 결과로 토론 주제 1개를 추천해줘.\\\n",
    "                    검색 결과가 없으면 다른 키워드를 요청해. \\\n",
    "                    검색 결과 외의 임의의 퀴즈는 반환하지마 \\\n",
    "                    검색결과:{search_results}\\\n",
    "                    출력은 반드시 json형태로 마크다운 없이 반환해.\\\n",
    "                    'discussion' : 토론 주제\"\n",
    "                    \n",
    "prompt = ChatPromptTemplate.from_template(type_prompt)\n",
    "chain = {'search_results': RunnableLambda(search.run)} | prompt | llm | JsonOutputParser()\n",
    "result = chain.invoke(user_input_revised)\n",
    "print(result)\n",
    "print(search.results(user_input_revised))\n",
    "\n",
    "def grading_discussion_gpt(discussion):\n",
    "    user_argue = input()\n",
    "    user_prompt = f'''\n",
    "    당신은 토론 참여자가 토론 주제에 맞게 논리적으로 주장하였는지 검증하는 판별가 입니다. \n",
    "    토론 참여자의 점수를 0~100점으로 점수를 매기고 그 이유를 한줄로 서술하세요.\n",
    "    토론 주제 : {discussion}\n",
    "    토론 참여자의 주장 : {user_argue}\n",
    "    \n",
    "    출력은 반드시 json형태로 마크다운 없이 반환하세요.\n",
    "    'score' : 점수\n",
    "    'reason' : 이유\n",
    "    '''\n",
    "\n",
    "    response = client.chat.completions.create(model = \"gpt-4o\",\n",
    "                                        messages = [\n",
    "                                            {'role': 'user', 'content': user_prompt},\n",
    "                                            ],\n",
    "                                        max_tokens=150,\n",
    "                                        temperature=0\n",
    "                                        )\n",
    "    return json.loads(response.choices[0].message.content)\n",
    "if classified_type == \"quiz\":\n",
    "    quiz_input = input()\n",
    "    if int(result['correct_answer']) == int(quiz_input):\n",
    "        print('정답입니다')\n",
    "    else:\n",
    "        print('오답입니다')\n",
    "\n",
    "elif classified_type == \"discussion\":\n",
    "    grading_result = grading_discussion_gpt(result['discussion'])\n",
    "    print('점수:',grading_result['score'])\n",
    "    print('이유:',grading_result['reason'])"
   ]
  }
 ],
 "metadata": {
  "kernelspec": {
   "display_name": "llm",
   "language": "python",
   "name": "python3"
  },
  "language_info": {
   "codemirror_mode": {
    "name": "ipython",
    "version": 3
   },
   "file_extension": ".py",
   "mimetype": "text/x-python",
   "name": "python",
   "nbconvert_exporter": "python",
   "pygments_lexer": "ipython3",
   "version": "3.11.13"
  }
 },
 "nbformat": 4,
 "nbformat_minor": 2
}
