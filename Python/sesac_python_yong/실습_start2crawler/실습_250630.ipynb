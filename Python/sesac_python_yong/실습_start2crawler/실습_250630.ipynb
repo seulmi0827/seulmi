{
 "cells": [
  {
   "cell_type": "markdown",
   "id": "d18fcb01",
   "metadata": {},
   "source": [
    "## 1"
   ]
  },
  {
   "cell_type": "code",
   "execution_count": null,
   "id": "76068759",
   "metadata": {},
   "outputs": [
    {
     "data": {
      "text/plain": [
       "[1, 2, 3]"
      ]
     },
     "execution_count": 14,
     "metadata": {},
     "output_type": "execute_result"
    }
   ],
   "source": [
    "a = [1,3,2]\n",
    "a.sort()\n",
    "a # a의 주소에 sort를 실행한다. a.sort()자체의 반환값은 없다."
   ]
  },
  {
   "cell_type": "code",
   "execution_count": null,
   "id": "f3b941f2",
   "metadata": {},
   "outputs": [
    {
     "name": "stdout",
     "output_type": "stream",
     "text": [
      "[1, 2, 3]\n"
     ]
    },
    {
     "data": {
      "text/plain": [
       "[1, 3, 2]"
      ]
     },
     "execution_count": 17,
     "metadata": {},
     "output_type": "execute_result"
    }
   ],
   "source": [
    "b = [1,3,2]\n",
    "print(sorted(b))\n",
    "b #반환값이 존재한다.원래 b는 변하지 않는다. "
   ]
  },
  {
   "cell_type": "markdown",
   "id": "3ebbafda",
   "metadata": {},
   "source": [
    "## 2"
   ]
  },
  {
   "cell_type": "code",
   "execution_count": null,
   "id": "6d75490f",
   "metadata": {},
   "outputs": [
    {
     "data": {
      "text/plain": [
       "[1, 2, 3, [4]]"
      ]
     },
     "execution_count": 22,
     "metadata": {},
     "output_type": "execute_result"
    }
   ],
   "source": [
    "test_ls = [1,2,3]\n",
    "test_num = [4]\n",
    "\n",
    "test_ls.append(test_num)\n",
    "test_ls  # test_num 그대로 하나의 요소로 들어간다."
   ]
  },
  {
   "cell_type": "code",
   "execution_count": null,
   "id": "5f1a55a2",
   "metadata": {},
   "outputs": [
    {
     "data": {
      "text/plain": [
       "[1, 2, 3, 4]"
      ]
     },
     "execution_count": 21,
     "metadata": {},
     "output_type": "execute_result"
    }
   ],
   "source": [
    "test_ls = [1,2,3]\n",
    "test_num = [4]\n",
    "\n",
    "test_ls.extend(test_num)\n",
    "test_ls # test_num을 풀어서 하나의 요소로 넣는다. "
   ]
  },
  {
   "cell_type": "markdown",
   "id": "0dac8619",
   "metadata": {},
   "source": [
    "## 3"
   ]
  },
  {
   "cell_type": "code",
   "execution_count": null,
   "id": "354022f1",
   "metadata": {},
   "outputs": [
    {
     "name": "stdout",
     "output_type": "stream",
     "text": [
      "a: [1, 2, 5, 4, 5]\n",
      "b: [1, 2, 5, 4, 5]\n"
     ]
    }
   ],
   "source": [
    "a = [1,2,3,4,5]\n",
    "b = a\n",
    "a[2] = 5\n",
    "print('a:',a)\n",
    "print('b:',b) # b는 a를 참조하기 때문에 a의 값이 바뀌면 b도 바뀐다. "
   ]
  },
  {
   "cell_type": "markdown",
   "id": "72ec6f9d",
   "metadata": {},
   "source": [
    "# ADV"
   ]
  },
  {
   "cell_type": "markdown",
   "id": "4a8a6405",
   "metadata": {},
   "source": [
    "## 1"
   ]
  },
  {
   "cell_type": "code",
   "execution_count": 3,
   "id": "ab14ff95",
   "metadata": {},
   "outputs": [
    {
     "name": "stdout",
     "output_type": "stream",
     "text": [
      "['p']\n",
      "['a', 'n']\n"
     ]
    }
   ],
   "source": [
    "\n",
    "def duplicated_letters(alphs):\n",
    "    return [alph for alph in set(alphs) if alphs.count(alph) >=2]\n",
    "\n",
    "print(duplicated_letters('apple'))\n",
    "print(duplicated_letters('banana'))"
   ]
  },
  {
   "cell_type": "markdown",
   "id": "1eaf9758",
   "metadata": {},
   "source": [
    "## 2"
   ]
  },
  {
   "cell_type": "code",
   "execution_count": 8,
   "id": "a0fbf32f",
   "metadata": {},
   "outputs": [
    {
     "name": "stdout",
     "output_type": "stream",
     "text": [
      "aPpLe\n",
      "bAnAnA\n"
     ]
    }
   ],
   "source": [
    "def low_and_up(alphs):\n",
    "    return ''.join([alph.lower() if idx % 2 == 0 else alph.upper() for idx, alph in enumerate(alphs)])\n",
    "\n",
    "print(low_and_up('apple'))\n",
    "print(low_and_up('banana'))"
   ]
  },
  {
   "cell_type": "markdown",
   "id": "4f78d4ca",
   "metadata": {},
   "source": [
    "## 3"
   ]
  },
  {
   "cell_type": "code",
   "execution_count": 11,
   "id": "6e6e7a21",
   "metadata": {},
   "outputs": [
    {
     "name": "stdout",
     "output_type": "stream",
     "text": [
      "[1, 3, 0, 1]\n",
      "[4, 3]\n"
     ]
    }
   ],
   "source": [
    "def lonely(num_ls): \n",
    "    init_num = None\n",
    "    result = []\n",
    "    for num in num_ls:\n",
    "        if init_num != num:\n",
    "            result.append(num)\n",
    "            init_num = num\n",
    "    return result\n",
    "\n",
    "print(lonely([1,1,3,3,0,1,1]))\n",
    "print(lonely([4,4,4,3,3]))"
   ]
  }
 ],
 "metadata": {
  "kernelspec": {
   "display_name": "base",
   "language": "python",
   "name": "python3"
  },
  "language_info": {
   "codemirror_mode": {
    "name": "ipython",
    "version": 3
   },
   "file_extension": ".py",
   "mimetype": "text/x-python",
   "name": "python",
   "nbconvert_exporter": "python",
   "pygments_lexer": "ipython3",
   "version": "3.9.12"
  }
 },
 "nbformat": 4,
 "nbformat_minor": 5
}
