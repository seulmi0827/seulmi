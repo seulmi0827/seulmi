{
 "cells": [
  {
   "cell_type": "markdown",
   "id": "d95b2811",
   "metadata": {},
   "source": [
    "## 1번"
   ]
  },
  {
   "cell_type": "code",
   "execution_count": 5,
   "id": "19d33888",
   "metadata": {},
   "outputs": [],
   "source": [
    "def count_vowels(word):\n",
    "    result = 0\n",
    "    for w in set(word):\n",
    "        if w in 'aeiou':\n",
    "            result += word.count(w)\n",
    "    return result\n"
   ]
  },
  {
   "cell_type": "code",
   "execution_count": 7,
   "id": "3949df0a",
   "metadata": {},
   "outputs": [
    {
     "data": {
      "text/plain": [
       "3"
      ]
     },
     "execution_count": 7,
     "metadata": {},
     "output_type": "execute_result"
    }
   ],
   "source": [
    "count_vowels('banana')"
   ]
  },
  {
   "cell_type": "markdown",
   "id": "bc18e6cf",
   "metadata": {},
   "source": [
    "## 2번\n",
    "\n",
    "4"
   ]
  },
  {
   "cell_type": "code",
   "execution_count": 10,
   "id": "8c38a825",
   "metadata": {},
   "outputs": [
    {
     "data": {
      "text/plain": [
       "-1"
      ]
     },
     "execution_count": 10,
     "metadata": {},
     "output_type": "execute_result"
    }
   ],
   "source": [
    "'abc'.find('d')"
   ]
  },
  {
   "cell_type": "markdown",
   "id": "b0821e95",
   "metadata": {},
   "source": [
    "## 3번"
   ]
  },
  {
   "cell_type": "code",
   "execution_count": 11,
   "id": "97b10c4b",
   "metadata": {},
   "outputs": [],
   "source": [
    "def only_square_area(ls1, ls2):\n",
    "    result = []\n",
    "    for l1 in ls1:\n",
    "        for l2 in ls2:\n",
    "            if l1 == l2:\n",
    "                result.append(l1**2)\n",
    "    return result"
   ]
  },
  {
   "cell_type": "code",
   "execution_count": 12,
   "id": "e9668fae",
   "metadata": {},
   "outputs": [
    {
     "data": {
      "text/plain": [
       "[1024, 3025]"
      ]
     },
     "execution_count": 12,
     "metadata": {},
     "output_type": "execute_result"
    }
   ],
   "source": [
    "only_square_area([32,55,63],[13,32,40,55])"
   ]
  },
  {
   "cell_type": "markdown",
   "id": "97b68566",
   "metadata": {},
   "source": [
    "## Adv"
   ]
  },
  {
   "cell_type": "markdown",
   "id": "4074fe96",
   "metadata": {},
   "source": [
    "## 1번"
   ]
  },
  {
   "cell_type": "code",
   "execution_count": 16,
   "id": "42e3b6da",
   "metadata": {},
   "outputs": [],
   "source": [
    "def get_dict_avg(dct):\n",
    "    result = [value for value in dct.values()]\n",
    "    return sum(result)/len(result)\n",
    "        "
   ]
  },
  {
   "cell_type": "code",
   "execution_count": 17,
   "id": "d3b29676",
   "metadata": {},
   "outputs": [
    {
     "data": {
      "text/plain": [
       "85.5"
      ]
     },
     "execution_count": 17,
     "metadata": {},
     "output_type": "execute_result"
    }
   ],
   "source": [
    "get_dict_avg({\n",
    "    'python':80,\n",
    "    'algorithm':90,\n",
    "    'django':89,\n",
    "    'web':83\n",
    "})"
   ]
  },
  {
   "cell_type": "markdown",
   "id": "efe01da4",
   "metadata": {},
   "source": [
    "## 2번"
   ]
  },
  {
   "cell_type": "code",
   "execution_count": 19,
   "id": "53aa660c",
   "metadata": {},
   "outputs": [],
   "source": [
    "def count_blood(ls):\n",
    "    return {blood:ls.count(blood) for blood in set(ls)}\n",
    "\n",
    "        "
   ]
  },
  {
   "cell_type": "code",
   "execution_count": 20,
   "id": "c302a489",
   "metadata": {},
   "outputs": [
    {
     "data": {
      "text/plain": [
       "{'O': 3, 'A': 3, 'B': 3, 'AB': 3}"
      ]
     },
     "execution_count": 20,
     "metadata": {},
     "output_type": "execute_result"
    }
   ],
   "source": [
    "count_blood(['A','B','A','O','AB','AB',\n",
    "             'O','A','B','O','B','AB'])"
   ]
  }
 ],
 "metadata": {
  "kernelspec": {
   "display_name": "base",
   "language": "python",
   "name": "python3"
  },
  "language_info": {
   "codemirror_mode": {
    "name": "ipython",
    "version": 3
   },
   "file_extension": ".py",
   "mimetype": "text/x-python",
   "name": "python",
   "nbconvert_exporter": "python",
   "pygments_lexer": "ipython3",
   "version": "3.9.12"
  }
 },
 "nbformat": 4,
 "nbformat_minor": 5
}
