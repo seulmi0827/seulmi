{
 "cells": [
  {
   "cell_type": "markdown",
   "id": "29977ffc",
   "metadata": {},
   "source": [
    "## 1. 세로로 출력하기"
   ]
  },
  {
   "cell_type": "code",
   "execution_count": 2,
   "id": "2c5d99d9",
   "metadata": {},
   "outputs": [
    {
     "name": "stdout",
     "output_type": "stream",
     "text": [
      "1\n",
      "2\n",
      "3\n",
      "4\n",
      "5\n",
      "6\n",
      "7\n",
      "8\n",
      "9\n",
      "10\n"
     ]
    }
   ],
   "source": [
    "user_input = input()\n",
    "user_int = int(user_input)\n",
    "for num in range(1,user_int+1):\n",
    "    print(num)"
   ]
  },
  {
   "cell_type": "markdown",
   "id": "9f97261c",
   "metadata": {},
   "source": [
    "## 2. 거꾸로 세로로 출력하기"
   ]
  },
  {
   "cell_type": "code",
   "execution_count": 4,
   "id": "dd7e85b0",
   "metadata": {},
   "outputs": [
    {
     "name": "stdout",
     "output_type": "stream",
     "text": [
      "10\n",
      "9\n",
      "8\n",
      "7\n",
      "6\n",
      "5\n",
      "4\n",
      "3\n",
      "2\n",
      "1\n"
     ]
    }
   ],
   "source": [
    "user_int = int(user_input)\n",
    "for num in range(user_int,0,-1):\n",
    "    print(num)"
   ]
  },
  {
   "cell_type": "markdown",
   "id": "ba255056",
   "metadata": {},
   "source": [
    "## 3. N줄 덧셈"
   ]
  },
  {
   "cell_type": "code",
   "execution_count": 6,
   "id": "918ac825",
   "metadata": {},
   "outputs": [
    {
     "data": {
      "text/plain": [
       "55"
      ]
     },
     "execution_count": 6,
     "metadata": {},
     "output_type": "execute_result"
    }
   ],
   "source": [
    "sum([i for i in range(1,user_int+1)])"
   ]
  },
  {
   "cell_type": "markdown",
   "id": "6e93f944",
   "metadata": {},
   "source": [
    "## 4. 간단한 N의 약수"
   ]
  },
  {
   "cell_type": "code",
   "execution_count": 30,
   "id": "ad48a43a",
   "metadata": {},
   "outputs": [
    {
     "name": "stdout",
     "output_type": "stream",
     "text": [
      "입력: 30\n",
      "남은 ls: [1, 2, 3, 5, 7, 11, 13, 17, 19, 23, 29]\n"
     ]
    }
   ],
   "source": [
    "user_input = input()\n",
    "user_int = int(user_input)\n",
    "print('입력:',user_int)\n",
    "\n",
    "result_int_ls = list(range(1,user_int+1))\n",
    "#print(result_int_ls)\n",
    "\n",
    "for n in range(1,user_int+1):\n",
    "    for i in range(2,user_int+1):\n",
    "        #print('현재 처리중인 n:', n,' 현재처리중인 i:',i)\n",
    "        if n != i and n % i == 0 and n in result_int_ls:\n",
    "            #print('삭제 할 n :',n)\n",
    "            result_int_ls.remove(n)\n",
    "            \n",
    "print('남은 ls:' ,result_int_ls)"
   ]
  },
  {
   "cell_type": "markdown",
   "id": "5cdc0819",
   "metadata": {},
   "source": [
    "## 5. 중간값찾기"
   ]
  },
  {
   "cell_type": "code",
   "execution_count": 51,
   "id": "236a27f6",
   "metadata": {},
   "outputs": [
    {
     "name": "stdout",
     "output_type": "stream",
     "text": [
      "13\n"
     ]
    }
   ],
   "source": [
    "numbers = [2, 3, 5, 30, 7, 11, 13, 17, 19, 6, 23]\n",
    "numbers.sort()\n",
    "\n",
    "if len(numbers) % 2 == 0:\n",
    "    middle = int(len(numbers)/2 +1)\n",
    "    middle_result = numbers[middle : middle +1]\n",
    "    print(middle_result[0])\n",
    "else:\n",
    "    middle = len(numbers) // 2 + 1\n",
    "    middle_result = numbers[middle]\n",
    "    print(middle_result)"
   ]
  },
  {
   "cell_type": "markdown",
   "id": "91f951fd",
   "metadata": {},
   "source": [
    "## 6. 계단 만들기"
   ]
  },
  {
   "cell_type": "code",
   "execution_count": 87,
   "id": "0e73186a",
   "metadata": {},
   "outputs": [
    {
     "name": "stdout",
     "output_type": "stream",
     "text": [
      "1 \n",
      "1 2 \n",
      "1 2 3 \n",
      "1 2 3 4 \n",
      "1 2 3 4 5 \n",
      "1 2 3 4 5 6 \n",
      "1 2 3 4 5 6 7 \n",
      "1 2 3 4 5 6 7 8 \n",
      "1 2 3 4 5 6 7 8 9 \n",
      "1 2 3 4 5 6 7 8 9 10 \n"
     ]
    }
   ],
   "source": [
    "user_input = 10\n",
    "user_ls = [i for i in range(1,user_input+1)]\n",
    "for i in range(1,user_input+1):\n",
    "    for k in range(len(user_ls[:i])):\n",
    "        print(user_ls[k], end = ' ')\n",
    "    print()"
   ]
  }
 ],
 "metadata": {
  "kernelspec": {
   "display_name": "base",
   "language": "python",
   "name": "python3"
  },
  "language_info": {
   "codemirror_mode": {
    "name": "ipython",
    "version": 3
   },
   "file_extension": ".py",
   "mimetype": "text/x-python",
   "name": "python",
   "nbconvert_exporter": "python",
   "pygments_lexer": "ipython3",
   "version": "3.9.12"
  }
 },
 "nbformat": 4,
 "nbformat_minor": 5
}
