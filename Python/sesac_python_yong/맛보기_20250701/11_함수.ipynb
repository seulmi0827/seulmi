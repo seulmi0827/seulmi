{
 "cells": [
  {
   "cell_type": "markdown",
   "metadata": {},
   "source": [
    "# Practice 2\n",
    "\n",
    "> 함수"
   ]
  },
  {
   "cell_type": "markdown",
   "metadata": {},
   "source": [
    "## 불쌍한 달팽이\n",
    "\n",
    "> 달팽이는 낮 시간 동안에 기둥을 올라간다. 하지만 밤에는 잠을 자면서 어느 정도의 거리만큼 미끄러진다. (낮 시간 동안 올라간 거리보다는 적게 미끄러진다.)\n",
    "> \n",
    "> 달팽이가 기둥의 꼭대기에 도달하는 날까지 걸리는 시간을 반환하는 함수 `snail()`을 작성하시오.\n",
    "\n",
    "> 함수의 인자는 다음과 같다.\n",
    "1. 기둥의 높이(미터)\n",
    "2. 낮 시간 동안 달팽이가 올라가는 거리(미터)\n",
    "3. 달팽이가 야간에 잠을 자는 동안 미끄러지는 거리(미터)\n",
    "\n",
    "---\n",
    "\n",
    "예시)\n",
    "\n",
    "```python\n",
    "snail(100, 5, 2) #=> 33\n",
    "```"
   ]
  },
  {
   "cell_type": "code",
   "execution_count": 18,
   "metadata": {},
   "outputs": [],
   "source": [
    "def snail(meter, day, night):\n",
    "    cnt = 1\n",
    "    while meter > 0:\n",
    "        print(f'{cnt-1}일 동안 움직이고 남은 meter: {meter}')\n",
    "        meter -= day\n",
    "        if meter <0:\n",
    "            break\n",
    "        meter += night\n",
    "        cnt +=1\n",
    "    return cnt"
   ]
  },
  {
   "cell_type": "code",
   "execution_count": 19,
   "metadata": {},
   "outputs": [
    {
     "name": "stdout",
     "output_type": "stream",
     "text": [
      "0일 동안 움직이고 남은 meter: 100\n",
      "1일 동안 움직이고 남은 meter: 97\n",
      "2일 동안 움직이고 남은 meter: 94\n",
      "3일 동안 움직이고 남은 meter: 91\n",
      "4일 동안 움직이고 남은 meter: 88\n",
      "5일 동안 움직이고 남은 meter: 85\n",
      "6일 동안 움직이고 남은 meter: 82\n",
      "7일 동안 움직이고 남은 meter: 79\n",
      "8일 동안 움직이고 남은 meter: 76\n",
      "9일 동안 움직이고 남은 meter: 73\n",
      "10일 동안 움직이고 남은 meter: 70\n",
      "11일 동안 움직이고 남은 meter: 67\n",
      "12일 동안 움직이고 남은 meter: 64\n",
      "13일 동안 움직이고 남은 meter: 61\n",
      "14일 동안 움직이고 남은 meter: 58\n",
      "15일 동안 움직이고 남은 meter: 55\n",
      "16일 동안 움직이고 남은 meter: 52\n",
      "17일 동안 움직이고 남은 meter: 49\n",
      "18일 동안 움직이고 남은 meter: 46\n",
      "19일 동안 움직이고 남은 meter: 43\n",
      "20일 동안 움직이고 남은 meter: 40\n",
      "21일 동안 움직이고 남은 meter: 37\n",
      "22일 동안 움직이고 남은 meter: 34\n",
      "23일 동안 움직이고 남은 meter: 31\n",
      "24일 동안 움직이고 남은 meter: 28\n",
      "25일 동안 움직이고 남은 meter: 25\n",
      "26일 동안 움직이고 남은 meter: 22\n",
      "27일 동안 움직이고 남은 meter: 19\n",
      "28일 동안 움직이고 남은 meter: 16\n",
      "29일 동안 움직이고 남은 meter: 13\n",
      "30일 동안 움직이고 남은 meter: 10\n",
      "31일 동안 움직이고 남은 meter: 7\n",
      "32일 동안 움직이고 남은 meter: 4\n",
      "33\n"
     ]
    }
   ],
   "source": [
    "# 해당 코드를 통해 올바른 결과가 나오는지 확인하시오.\n",
    "print(snail(100, 5, 2))"
   ]
  },
  {
   "cell_type": "markdown",
   "metadata": {},
   "source": [
    "## 자릿수 더하기 (SWEA #2058)\n",
    "\n",
    "> 자연수 number를 입력 받아, 각 자릿수의 합을 계산하여 출력하시오.\n",
    "\n",
    "---\n",
    "\n",
    "예시)\n",
    "\n",
    "```python\n",
    "sum_of_digit(1234) #=> 10\n",
    "sum_of_digit(4321) #=> 10\n",
    "```"
   ]
  },
  {
   "cell_type": "code",
   "execution_count": null,
   "metadata": {},
   "outputs": [
    {
     "data": {
      "text/plain": [
       "12"
      ]
     },
     "execution_count": 43,
     "metadata": {},
     "output_type": "execute_result"
    }
   ],
   "source": []
  },
  {
   "cell_type": "code",
   "execution_count": 44,
   "metadata": {},
   "outputs": [],
   "source": [
    "def sum_of_digit(num):\n",
    "    result = 0\n",
    "    for i in str(num):\n",
    "        result += int(i) \n",
    "    return result"
   ]
  },
  {
   "cell_type": "code",
   "execution_count": 45,
   "metadata": {},
   "outputs": [
    {
     "name": "stdout",
     "output_type": "stream",
     "text": [
      "10\n",
      "10\n"
     ]
    }
   ],
   "source": [
    "# 해당 코드를 통해 올바른 결과가 나오는지 확인하시오.\n",
    "print(sum_of_digit(1234))\n",
    "print(sum_of_digit(4321))"
   ]
  }
 ],
 "metadata": {
  "kernelspec": {
   "display_name": "base",
   "language": "python",
   "name": "python3"
  },
  "language_info": {
   "codemirror_mode": {
    "name": "ipython",
    "version": 3
   },
   "file_extension": ".py",
   "mimetype": "text/x-python",
   "name": "python",
   "nbconvert_exporter": "python",
   "pygments_lexer": "ipython3",
   "version": "3.9.12"
  },
  "toc": {
   "base_numbering": 1,
   "nav_menu": {},
   "number_sections": true,
   "sideBar": true,
   "skip_h1_title": false,
   "title_cell": "Table of Contents",
   "title_sidebar": "Contents",
   "toc_cell": false,
   "toc_position": {},
   "toc_section_display": true,
   "toc_window_display": false
  }
 },
 "nbformat": 4,
 "nbformat_minor": 4
}
